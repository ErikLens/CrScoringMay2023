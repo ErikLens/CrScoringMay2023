{
  "nbformat": 4,
  "nbformat_minor": 0,
  "metadata": {
    "colab": {
      "provenance": [],
      "toc_visible": true,
      "authorship_tag": "ABX9TyMm4TazSxuOpChCAhHjU+2s",
      "include_colab_link": true
    },
    "kernelspec": {
      "name": "python3",
      "display_name": "Python 3"
    },
    "language_info": {
      "name": "python"
    }
  },
  "cells": [
    {
      "cell_type": "markdown",
      "metadata": {
        "id": "view-in-github",
        "colab_type": "text"
      },
      "source": [
        "<a href=\"https://colab.research.google.com/github/ErikLens/CrScoringMay2023/blob/main/Untitled0.ipynb\" target=\"_parent\"><img src=\"https://colab.research.google.com/assets/colab-badge.svg\" alt=\"Open In Colab\"/></a>"
      ]
    },
    {
      "cell_type": "markdown",
      "source": [
        "# Загрузка данных и первичный анализ"
      ],
      "metadata": {
        "id": "btENbtpuWgGh"
      }
    },
    {
      "cell_type": "markdown",
      "source": [
        "Загрузка библиотек"
      ],
      "metadata": {
        "id": "7wgc6ABoXBZQ"
      }
    },
    {
      "cell_type": "code",
      "source": [
        "import pandas as pd\n",
        "import numpy as np\n",
        "from matplotlib import pyplot as plt\n",
        "\n",
        "from sklearn.linear_model import LogisticRegression\n",
        "\n",
        "import warnings\n",
        "warnings.filterwarnings(\"ignore\")"
      ],
      "metadata": {
        "id": "LCeXUEA0WxVU"
      },
      "execution_count": 1,
      "outputs": []
    },
    {
      "cell_type": "markdown",
      "source": [
        "Загрузка данных"
      ],
      "metadata": {
        "id": "uzWA0vqGXKoU"
      }
    },
    {
      "cell_type": "code",
      "source": [
        "!mkdir -p ~/.postgresql && \\\n",
        "wget \"https://storage.yandexcloud.net/cloud-certs/CA.pem\" \\\n",
        "    --output-document ~/.postgresql/root.crt && \\\n",
        "chmod 0600 ~/.postgresql/root.crt"
      ],
      "metadata": {
        "colab": {
          "base_uri": "https://localhost:8080/"
        },
        "id": "Pd7eOUCNXORx",
        "outputId": "f7aed9dd-421e-4972-dfbe-09e7c61c036b"
      },
      "execution_count": 2,
      "outputs": [
        {
          "output_type": "stream",
          "name": "stdout",
          "text": [
            "--2023-05-22 21:35:29--  https://storage.yandexcloud.net/cloud-certs/CA.pem\n",
            "Resolving storage.yandexcloud.net (storage.yandexcloud.net)... 213.180.193.243, 2a02:6b8::1d9\n",
            "Connecting to storage.yandexcloud.net (storage.yandexcloud.net)|213.180.193.243|:443... connected.\n",
            "HTTP request sent, awaiting response... 200 OK\n",
            "Length: 3579 (3.5K) [application/x-x509-ca-cert]\n",
            "Saving to: ‘/root/.postgresql/root.crt’\n",
            "\n",
            "/root/.postgresql/r 100%[===================>]   3.50K  --.-KB/s    in 0s      \n",
            "\n",
            "2023-05-22 21:35:30 (462 MB/s) - ‘/root/.postgresql/root.crt’ saved [3579/3579]\n",
            "\n"
          ]
        }
      ]
    },
    {
      "cell_type": "code",
      "source": [
        "!sudo apt update && sudo apt install --yes python3 python3-pip && \\\n",
        "!pip3 install psycopg2-binary"
      ],
      "metadata": {
        "colab": {
          "base_uri": "https://localhost:8080/"
        },
        "id": "dfRGsGw1Y8k7",
        "outputId": "ddafeae6-92cd-459a-ac6a-b2cb303eff01"
      },
      "execution_count": 3,
      "outputs": [
        {
          "output_type": "stream",
          "name": "stdout",
          "text": [
            "Get:1 https://cloud.r-project.org/bin/linux/ubuntu focal-cran40/ InRelease [3,622 B]\n",
            "Hit:2 https://developer.download.nvidia.com/compute/cuda/repos/ubuntu2004/x86_64  InRelease\n",
            "Hit:3 http://ppa.launchpad.net/c2d4u.team/c2d4u4.0+/ubuntu focal InRelease\n",
            "Get:4 http://security.ubuntu.com/ubuntu focal-security InRelease [114 kB]\n",
            "Hit:5 http://archive.ubuntu.com/ubuntu focal InRelease\n",
            "Get:6 http://archive.ubuntu.com/ubuntu focal-updates InRelease [114 kB]\n",
            "Hit:7 http://ppa.launchpad.net/cran/libgit2/ubuntu focal InRelease\n",
            "Hit:8 http://ppa.launchpad.net/deadsnakes/ppa/ubuntu focal InRelease\n",
            "Get:9 http://archive.ubuntu.com/ubuntu focal-backports InRelease [108 kB]\n",
            "Hit:10 http://ppa.launchpad.net/graphics-drivers/ppa/ubuntu focal InRelease\n",
            "Hit:11 http://ppa.launchpad.net/ubuntugis/ppa/ubuntu focal InRelease\n",
            "Get:12 http://security.ubuntu.com/ubuntu focal-security/main amd64 Packages [2,721 kB]\n",
            "Get:13 http://archive.ubuntu.com/ubuntu focal-updates/universe amd64 Packages [1,344 kB]\n",
            "Get:14 http://security.ubuntu.com/ubuntu focal-security/restricted amd64 Packages [2,270 kB]\n",
            "Get:15 http://archive.ubuntu.com/ubuntu focal-updates/main amd64 Packages [3,197 kB]\n",
            "Get:16 http://archive.ubuntu.com/ubuntu focal-updates/restricted amd64 Packages [2,408 kB]\n",
            "Fetched 12.3 MB in 4s (2,730 kB/s)\n",
            "Reading package lists... Done\n",
            "Building dependency tree       \n",
            "Reading state information... Done\n",
            "25 packages can be upgraded. Run 'apt list --upgradable' to see them.\n",
            "Reading package lists... Done\n",
            "Building dependency tree       \n",
            "Reading state information... Done\n",
            "python3 is already the newest version (3.8.2-0ubuntu2).\n",
            "python3 set to manually installed.\n",
            "The following additional packages will be installed:\n",
            "  python-pip-whl python3-setuptools python3-wheel\n",
            "Suggested packages:\n",
            "  python-setuptools-doc\n",
            "The following NEW packages will be installed:\n",
            "  python-pip-whl python3-pip python3-setuptools python3-wheel\n",
            "0 upgraded, 4 newly installed, 0 to remove and 25 not upgraded.\n",
            "Need to get 2,389 kB of archives.\n",
            "After this operation, 4,933 kB of additional disk space will be used.\n",
            "Get:1 http://archive.ubuntu.com/ubuntu focal-updates/universe amd64 python-pip-whl all 20.0.2-5ubuntu1.8 [1,805 kB]\n",
            "Get:2 http://archive.ubuntu.com/ubuntu focal-updates/main amd64 python3-setuptools all 45.2.0-1ubuntu0.1 [330 kB]\n",
            "Get:3 http://archive.ubuntu.com/ubuntu focal-updates/universe amd64 python3-wheel all 0.34.2-1ubuntu0.1 [23.9 kB]\n",
            "Get:4 http://archive.ubuntu.com/ubuntu focal-updates/universe amd64 python3-pip all 20.0.2-5ubuntu1.8 [231 kB]\n",
            "Fetched 2,389 kB in 1s (2,432 kB/s)\n",
            "debconf: unable to initialize frontend: Dialog\n",
            "debconf: (No usable dialog-like program is installed, so the dialog based frontend cannot be used. at /usr/share/perl5/Debconf/FrontEnd/Dialog.pm line 76, <> line 4.)\n",
            "debconf: falling back to frontend: Readline\n",
            "debconf: unable to initialize frontend: Readline\n",
            "debconf: (This frontend requires a controlling tty.)\n",
            "debconf: falling back to frontend: Teletype\n",
            "dpkg-preconfigure: unable to re-open stdin: \n",
            "Selecting previously unselected package python-pip-whl.\n",
            "(Reading database ... 122531 files and directories currently installed.)\n",
            "Preparing to unpack .../python-pip-whl_20.0.2-5ubuntu1.8_all.deb ...\n",
            "Unpacking python-pip-whl (20.0.2-5ubuntu1.8) ...\n",
            "Selecting previously unselected package python3-setuptools.\n",
            "Preparing to unpack .../python3-setuptools_45.2.0-1ubuntu0.1_all.deb ...\n",
            "Unpacking python3-setuptools (45.2.0-1ubuntu0.1) ...\n",
            "Selecting previously unselected package python3-wheel.\n",
            "Preparing to unpack .../python3-wheel_0.34.2-1ubuntu0.1_all.deb ...\n",
            "Unpacking python3-wheel (0.34.2-1ubuntu0.1) ...\n",
            "Selecting previously unselected package python3-pip.\n",
            "Preparing to unpack .../python3-pip_20.0.2-5ubuntu1.8_all.deb ...\n",
            "Unpacking python3-pip (20.0.2-5ubuntu1.8) ...\n",
            "Setting up python3-setuptools (45.2.0-1ubuntu0.1) ...\n",
            "Setting up python3-wheel (0.34.2-1ubuntu0.1) ...\n",
            "Setting up python-pip-whl (20.0.2-5ubuntu1.8) ...\n",
            "Setting up python3-pip (20.0.2-5ubuntu1.8) ...\n",
            "Processing triggers for man-db (2.9.1-1) ...\n",
            "/bin/bash: !pip3: command not found\n"
          ]
        }
      ]
    },
    {
      "cell_type": "code",
      "source": [
        "import psycopg2\n",
        "\n",
        "conn = psycopg2.connect(\"\"\"\n",
        "    host=rc1b-70q90cunwkzx49mj.mdb.yandexcloud.net\n",
        "    port=6432\n",
        "    sslmode=verify-full\n",
        "    dbname=db_clients\n",
        "    user=mlhs_student\n",
        "    password=mlhs_student\n",
        "    target_session_attrs=read-write\n",
        "\"\"\")"
      ],
      "metadata": {
        "id": "qWQwVpCrZI_J"
      },
      "execution_count": 4,
      "outputs": []
    },
    {
      "cell_type": "code",
      "source": [
        "query = \"SELECT * from public.credit_scoring\"\n",
        "\n",
        "data = pd.read_sql_query(query, conn)\n",
        "\n",
        "conn.close()"
      ],
      "metadata": {
        "colab": {
          "base_uri": "https://localhost:8080/",
          "height": 407
        },
        "id": "WwLFlMRAZXU8",
        "outputId": "e4646572-1d55-412a-d9b4-97df2ecf70a6"
      },
      "execution_count": 33,
      "outputs": [
        {
          "output_type": "error",
          "ename": "InterfaceError",
          "evalue": "ignored",
          "traceback": [
            "\u001b[0;31m---------------------------------------------------------------------------\u001b[0m",
            "\u001b[0;31mInterfaceError\u001b[0m                            Traceback (most recent call last)",
            "\u001b[0;32m<ipython-input-33-424467ae1d3b>\u001b[0m in \u001b[0;36m<cell line: 3>\u001b[0;34m()\u001b[0m\n\u001b[1;32m      1\u001b[0m \u001b[0mquery\u001b[0m \u001b[0;34m=\u001b[0m \u001b[0;34m\"SELECT * from public.credit_scoring\"\u001b[0m\u001b[0;34m\u001b[0m\u001b[0;34m\u001b[0m\u001b[0m\n\u001b[1;32m      2\u001b[0m \u001b[0;34m\u001b[0m\u001b[0m\n\u001b[0;32m----> 3\u001b[0;31m \u001b[0mdata\u001b[0m \u001b[0;34m=\u001b[0m \u001b[0mpd\u001b[0m\u001b[0;34m.\u001b[0m\u001b[0mread_sql_query\u001b[0m\u001b[0;34m(\u001b[0m\u001b[0mquery\u001b[0m\u001b[0;34m,\u001b[0m \u001b[0mconn\u001b[0m\u001b[0;34m)\u001b[0m\u001b[0;34m\u001b[0m\u001b[0;34m\u001b[0m\u001b[0m\n\u001b[0m\u001b[1;32m      4\u001b[0m \u001b[0;34m\u001b[0m\u001b[0m\n\u001b[1;32m      5\u001b[0m \u001b[0mconn\u001b[0m\u001b[0;34m.\u001b[0m\u001b[0mclose\u001b[0m\u001b[0;34m(\u001b[0m\u001b[0;34m)\u001b[0m\u001b[0;34m\u001b[0m\u001b[0;34m\u001b[0m\u001b[0m\n",
            "\u001b[0;32m/usr/local/lib/python3.10/dist-packages/pandas/io/sql.py\u001b[0m in \u001b[0;36mread_sql_query\u001b[0;34m(sql, con, index_col, coerce_float, params, parse_dates, chunksize, dtype)\u001b[0m\n\u001b[1;32m    395\u001b[0m     \"\"\"\n\u001b[1;32m    396\u001b[0m     \u001b[0mpandas_sql\u001b[0m \u001b[0;34m=\u001b[0m \u001b[0mpandasSQL_builder\u001b[0m\u001b[0;34m(\u001b[0m\u001b[0mcon\u001b[0m\u001b[0;34m)\u001b[0m\u001b[0;34m\u001b[0m\u001b[0;34m\u001b[0m\u001b[0m\n\u001b[0;32m--> 397\u001b[0;31m     return pandas_sql.read_query(\n\u001b[0m\u001b[1;32m    398\u001b[0m         \u001b[0msql\u001b[0m\u001b[0;34m,\u001b[0m\u001b[0;34m\u001b[0m\u001b[0;34m\u001b[0m\u001b[0m\n\u001b[1;32m    399\u001b[0m         \u001b[0mindex_col\u001b[0m\u001b[0;34m=\u001b[0m\u001b[0mindex_col\u001b[0m\u001b[0;34m,\u001b[0m\u001b[0;34m\u001b[0m\u001b[0;34m\u001b[0m\u001b[0m\n",
            "\u001b[0;32m/usr/local/lib/python3.10/dist-packages/pandas/io/sql.py\u001b[0m in \u001b[0;36mread_query\u001b[0;34m(self, sql, index_col, coerce_float, params, parse_dates, chunksize, dtype)\u001b[0m\n\u001b[1;32m   2076\u001b[0m \u001b[0;34m\u001b[0m\u001b[0m\n\u001b[1;32m   2077\u001b[0m         \u001b[0margs\u001b[0m \u001b[0;34m=\u001b[0m \u001b[0m_convert_params\u001b[0m\u001b[0;34m(\u001b[0m\u001b[0msql\u001b[0m\u001b[0;34m,\u001b[0m \u001b[0mparams\u001b[0m\u001b[0;34m)\u001b[0m\u001b[0;34m\u001b[0m\u001b[0;34m\u001b[0m\u001b[0m\n\u001b[0;32m-> 2078\u001b[0;31m         \u001b[0mcursor\u001b[0m \u001b[0;34m=\u001b[0m \u001b[0mself\u001b[0m\u001b[0;34m.\u001b[0m\u001b[0mexecute\u001b[0m\u001b[0;34m(\u001b[0m\u001b[0;34m*\u001b[0m\u001b[0margs\u001b[0m\u001b[0;34m)\u001b[0m\u001b[0;34m\u001b[0m\u001b[0;34m\u001b[0m\u001b[0m\n\u001b[0m\u001b[1;32m   2079\u001b[0m         \u001b[0mcolumns\u001b[0m \u001b[0;34m=\u001b[0m \u001b[0;34m[\u001b[0m\u001b[0mcol_desc\u001b[0m\u001b[0;34m[\u001b[0m\u001b[0;36m0\u001b[0m\u001b[0;34m]\u001b[0m \u001b[0;32mfor\u001b[0m \u001b[0mcol_desc\u001b[0m \u001b[0;32min\u001b[0m \u001b[0mcursor\u001b[0m\u001b[0;34m.\u001b[0m\u001b[0mdescription\u001b[0m\u001b[0;34m]\u001b[0m\u001b[0;34m\u001b[0m\u001b[0;34m\u001b[0m\u001b[0m\n\u001b[1;32m   2080\u001b[0m \u001b[0;34m\u001b[0m\u001b[0m\n",
            "\u001b[0;32m/usr/local/lib/python3.10/dist-packages/pandas/io/sql.py\u001b[0m in \u001b[0;36mexecute\u001b[0;34m(self, *args, **kwargs)\u001b[0m\n\u001b[1;32m   2014\u001b[0m \u001b[0;34m\u001b[0m\u001b[0m\n\u001b[1;32m   2015\u001b[0m     \u001b[0;32mdef\u001b[0m \u001b[0mexecute\u001b[0m\u001b[0;34m(\u001b[0m\u001b[0mself\u001b[0m\u001b[0;34m,\u001b[0m \u001b[0;34m*\u001b[0m\u001b[0margs\u001b[0m\u001b[0;34m,\u001b[0m \u001b[0;34m**\u001b[0m\u001b[0mkwargs\u001b[0m\u001b[0;34m)\u001b[0m\u001b[0;34m:\u001b[0m\u001b[0;34m\u001b[0m\u001b[0;34m\u001b[0m\u001b[0m\n\u001b[0;32m-> 2016\u001b[0;31m         \u001b[0mcur\u001b[0m \u001b[0;34m=\u001b[0m \u001b[0mself\u001b[0m\u001b[0;34m.\u001b[0m\u001b[0mcon\u001b[0m\u001b[0;34m.\u001b[0m\u001b[0mcursor\u001b[0m\u001b[0;34m(\u001b[0m\u001b[0;34m)\u001b[0m\u001b[0;34m\u001b[0m\u001b[0;34m\u001b[0m\u001b[0m\n\u001b[0m\u001b[1;32m   2017\u001b[0m         \u001b[0;32mtry\u001b[0m\u001b[0;34m:\u001b[0m\u001b[0;34m\u001b[0m\u001b[0;34m\u001b[0m\u001b[0m\n\u001b[1;32m   2018\u001b[0m             \u001b[0mcur\u001b[0m\u001b[0;34m.\u001b[0m\u001b[0mexecute\u001b[0m\u001b[0;34m(\u001b[0m\u001b[0;34m*\u001b[0m\u001b[0margs\u001b[0m\u001b[0;34m,\u001b[0m \u001b[0;34m**\u001b[0m\u001b[0mkwargs\u001b[0m\u001b[0;34m)\u001b[0m\u001b[0;34m\u001b[0m\u001b[0;34m\u001b[0m\u001b[0m\n",
            "\u001b[0;31mInterfaceError\u001b[0m: connection already closed"
          ]
        }
      ]
    },
    {
      "cell_type": "markdown",
      "source": [
        "**Задача**\n",
        "\n",
        " Спрогнозировать, имел ли клиент просрочку 90 и более дней по характеристикам клиентов. Если была допущена просрочка, то заявка на кредит будет отклонена; если просрочки не было, заявка будет одобрена.\n",
        "\n",
        "**Целевая переменная**\n",
        "\n",
        "SeriousDlqin2yrs: Клиент имел просрочку 90 и более дней\n",
        "\n",
        "**Параметры**\n",
        "\n",
        "1. RevolvingUtilizationOfUnsecuredLines: Общий баланс средств (total balance on credit cards and personal lines of credit except real estate and no installment debt like car loans divided by the sum of credit limits).\n",
        "2. age: Возраст заемщика\n",
        "3. NumberOfTime30-59DaysPastDueNotWorse: Сколько раз за последние 2 года наблюдалась просрочка 30-59 дней.\n",
        "4. DebtRatio: Ежемесячные расходы (платеж по долгам, алиментам, расходы на проживания) деленные на месячный доход.\n",
        "5. MonthlyIncome: Ежемесячный доход.\n",
        "6. NumberOfOpenCreditLinesAndLoans: Количество открытых кредитов (напрмер, автокредит или ипотека) и кредитных карт.\n",
        "7. NumberOfTimes90DaysLate: Сколько раз наблюдалась просрочка (90 и более дней).\n",
        "8. NumberOfTime60-89DaysPastDueNotWorse: Сколько раз за последние 2 года заемщик задержал платеж на 60-89 дней.\n",
        "9. NumberOfDependents: Количество иждивенцев на попечении (супруги, дети и др).\n",
        "10. RealEstateLoansOrLines: Закодированное количество кредитов (в том числе под залог жилья) - чем больше код буквы, тем больше кредитов\n",
        "11. GroupAge: закодированная возрастная группа - чем больше код, тем больше возраст\n",
        " \n",
        "\n"
      ],
      "metadata": {
        "id": "u5bdHVUPZ0wr"
      }
    },
    {
      "cell_type": "code",
      "source": [
        "data.tail()"
      ],
      "metadata": {
        "colab": {
          "base_uri": "https://localhost:8080/",
          "height": 206
        },
        "id": "mOM3ubZ-aziE",
        "outputId": "631af8b7-9552-420b-98c8-8311641aaa8d"
      },
      "execution_count": 32,
      "outputs": [
        {
          "output_type": "execute_result",
          "data": {
            "text/plain": [
              "        SeriousDlqin2yrs  RevolvingUtilizationOfUnsecuredLines   age  \\\n",
              "149995                 0                              0.977899  63.0   \n",
              "149996                 0                              0.025449  58.0   \n",
              "149997                 0                              0.058001  83.0   \n",
              "149998                 0                              0.071273  42.0   \n",
              "149999                 0                              1.026395  44.0   \n",
              "\n",
              "        NumberOfTime30-59DaysPastDueNotWorse   DebtRatio  MonthlyIncome  \\\n",
              "149995                                     0  517.000000         5400.0   \n",
              "149996                                     0    0.253855        15500.0   \n",
              "149997                                     0    0.013997         5000.0   \n",
              "149998                                     0    0.008638         6945.0   \n",
              "149999                                     0    0.494819         5500.0   \n",
              "\n",
              "        NumberOfOpenCreditLinesAndLoans  NumberOfDependents  \\\n",
              "149995                                5                 0.0   \n",
              "149996                                7                 2.0   \n",
              "149997                                6                 0.0   \n",
              "149998                                3                 1.0   \n",
              "149999                                7                 1.0   \n",
              "\n",
              "       RealEstateLoansOrLines GroupAge  \n",
              "149995                      A        d  \n",
              "149996                      A        d  \n",
              "149997                      A        e  \n",
              "149998                      A        c  \n",
              "149999                      A        c  "
            ],
            "text/html": [
              "\n",
              "  <div id=\"df-33bd58e6-c7a0-4894-ab66-f136851b6baa\">\n",
              "    <div class=\"colab-df-container\">\n",
              "      <div>\n",
              "<style scoped>\n",
              "    .dataframe tbody tr th:only-of-type {\n",
              "        vertical-align: middle;\n",
              "    }\n",
              "\n",
              "    .dataframe tbody tr th {\n",
              "        vertical-align: top;\n",
              "    }\n",
              "\n",
              "    .dataframe thead th {\n",
              "        text-align: right;\n",
              "    }\n",
              "</style>\n",
              "<table border=\"1\" class=\"dataframe\">\n",
              "  <thead>\n",
              "    <tr style=\"text-align: right;\">\n",
              "      <th></th>\n",
              "      <th>SeriousDlqin2yrs</th>\n",
              "      <th>RevolvingUtilizationOfUnsecuredLines</th>\n",
              "      <th>age</th>\n",
              "      <th>NumberOfTime30-59DaysPastDueNotWorse</th>\n",
              "      <th>DebtRatio</th>\n",
              "      <th>MonthlyIncome</th>\n",
              "      <th>NumberOfOpenCreditLinesAndLoans</th>\n",
              "      <th>NumberOfDependents</th>\n",
              "      <th>RealEstateLoansOrLines</th>\n",
              "      <th>GroupAge</th>\n",
              "    </tr>\n",
              "  </thead>\n",
              "  <tbody>\n",
              "    <tr>\n",
              "      <th>149995</th>\n",
              "      <td>0</td>\n",
              "      <td>0.977899</td>\n",
              "      <td>63.0</td>\n",
              "      <td>0</td>\n",
              "      <td>517.000000</td>\n",
              "      <td>5400.0</td>\n",
              "      <td>5</td>\n",
              "      <td>0.0</td>\n",
              "      <td>A</td>\n",
              "      <td>d</td>\n",
              "    </tr>\n",
              "    <tr>\n",
              "      <th>149996</th>\n",
              "      <td>0</td>\n",
              "      <td>0.025449</td>\n",
              "      <td>58.0</td>\n",
              "      <td>0</td>\n",
              "      <td>0.253855</td>\n",
              "      <td>15500.0</td>\n",
              "      <td>7</td>\n",
              "      <td>2.0</td>\n",
              "      <td>A</td>\n",
              "      <td>d</td>\n",
              "    </tr>\n",
              "    <tr>\n",
              "      <th>149997</th>\n",
              "      <td>0</td>\n",
              "      <td>0.058001</td>\n",
              "      <td>83.0</td>\n",
              "      <td>0</td>\n",
              "      <td>0.013997</td>\n",
              "      <td>5000.0</td>\n",
              "      <td>6</td>\n",
              "      <td>0.0</td>\n",
              "      <td>A</td>\n",
              "      <td>e</td>\n",
              "    </tr>\n",
              "    <tr>\n",
              "      <th>149998</th>\n",
              "      <td>0</td>\n",
              "      <td>0.071273</td>\n",
              "      <td>42.0</td>\n",
              "      <td>0</td>\n",
              "      <td>0.008638</td>\n",
              "      <td>6945.0</td>\n",
              "      <td>3</td>\n",
              "      <td>1.0</td>\n",
              "      <td>A</td>\n",
              "      <td>c</td>\n",
              "    </tr>\n",
              "    <tr>\n",
              "      <th>149999</th>\n",
              "      <td>0</td>\n",
              "      <td>1.026395</td>\n",
              "      <td>44.0</td>\n",
              "      <td>0</td>\n",
              "      <td>0.494819</td>\n",
              "      <td>5500.0</td>\n",
              "      <td>7</td>\n",
              "      <td>1.0</td>\n",
              "      <td>A</td>\n",
              "      <td>c</td>\n",
              "    </tr>\n",
              "  </tbody>\n",
              "</table>\n",
              "</div>\n",
              "      <button class=\"colab-df-convert\" onclick=\"convertToInteractive('df-33bd58e6-c7a0-4894-ab66-f136851b6baa')\"\n",
              "              title=\"Convert this dataframe to an interactive table.\"\n",
              "              style=\"display:none;\">\n",
              "        \n",
              "  <svg xmlns=\"http://www.w3.org/2000/svg\" height=\"24px\"viewBox=\"0 0 24 24\"\n",
              "       width=\"24px\">\n",
              "    <path d=\"M0 0h24v24H0V0z\" fill=\"none\"/>\n",
              "    <path d=\"M18.56 5.44l.94 2.06.94-2.06 2.06-.94-2.06-.94-.94-2.06-.94 2.06-2.06.94zm-11 1L8.5 8.5l.94-2.06 2.06-.94-2.06-.94L8.5 2.5l-.94 2.06-2.06.94zm10 10l.94 2.06.94-2.06 2.06-.94-2.06-.94-.94-2.06-.94 2.06-2.06.94z\"/><path d=\"M17.41 7.96l-1.37-1.37c-.4-.4-.92-.59-1.43-.59-.52 0-1.04.2-1.43.59L10.3 9.45l-7.72 7.72c-.78.78-.78 2.05 0 2.83L4 21.41c.39.39.9.59 1.41.59.51 0 1.02-.2 1.41-.59l7.78-7.78 2.81-2.81c.8-.78.8-2.07 0-2.86zM5.41 20L4 18.59l7.72-7.72 1.47 1.35L5.41 20z\"/>\n",
              "  </svg>\n",
              "      </button>\n",
              "      \n",
              "  <style>\n",
              "    .colab-df-container {\n",
              "      display:flex;\n",
              "      flex-wrap:wrap;\n",
              "      gap: 12px;\n",
              "    }\n",
              "\n",
              "    .colab-df-convert {\n",
              "      background-color: #E8F0FE;\n",
              "      border: none;\n",
              "      border-radius: 50%;\n",
              "      cursor: pointer;\n",
              "      display: none;\n",
              "      fill: #1967D2;\n",
              "      height: 32px;\n",
              "      padding: 0 0 0 0;\n",
              "      width: 32px;\n",
              "    }\n",
              "\n",
              "    .colab-df-convert:hover {\n",
              "      background-color: #E2EBFA;\n",
              "      box-shadow: 0px 1px 2px rgba(60, 64, 67, 0.3), 0px 1px 3px 1px rgba(60, 64, 67, 0.15);\n",
              "      fill: #174EA6;\n",
              "    }\n",
              "\n",
              "    [theme=dark] .colab-df-convert {\n",
              "      background-color: #3B4455;\n",
              "      fill: #D2E3FC;\n",
              "    }\n",
              "\n",
              "    [theme=dark] .colab-df-convert:hover {\n",
              "      background-color: #434B5C;\n",
              "      box-shadow: 0px 1px 3px 1px rgba(0, 0, 0, 0.15);\n",
              "      filter: drop-shadow(0px 1px 2px rgba(0, 0, 0, 0.3));\n",
              "      fill: #FFFFFF;\n",
              "    }\n",
              "  </style>\n",
              "\n",
              "      <script>\n",
              "        const buttonEl =\n",
              "          document.querySelector('#df-33bd58e6-c7a0-4894-ab66-f136851b6baa button.colab-df-convert');\n",
              "        buttonEl.style.display =\n",
              "          google.colab.kernel.accessAllowed ? 'block' : 'none';\n",
              "\n",
              "        async function convertToInteractive(key) {\n",
              "          const element = document.querySelector('#df-33bd58e6-c7a0-4894-ab66-f136851b6baa');\n",
              "          const dataTable =\n",
              "            await google.colab.kernel.invokeFunction('convertToInteractive',\n",
              "                                                     [key], {});\n",
              "          if (!dataTable) return;\n",
              "\n",
              "          const docLinkHtml = 'Like what you see? Visit the ' +\n",
              "            '<a target=\"_blank\" href=https://colab.research.google.com/notebooks/data_table.ipynb>data table notebook</a>'\n",
              "            + ' to learn more about interactive tables.';\n",
              "          element.innerHTML = '';\n",
              "          dataTable['output_type'] = 'display_data';\n",
              "          await google.colab.output.renderOutput(dataTable, element);\n",
              "          const docLink = document.createElement('div');\n",
              "          docLink.innerHTML = docLinkHtml;\n",
              "          element.appendChild(docLink);\n",
              "        }\n",
              "      </script>\n",
              "    </div>\n",
              "  </div>\n",
              "  "
            ]
          },
          "metadata": {},
          "execution_count": 32
        }
      ]
    },
    {
      "cell_type": "code",
      "source": [
        "data.shape "
      ],
      "metadata": {
        "colab": {
          "base_uri": "https://localhost:8080/"
        },
        "id": "VpOOHDOkciJf",
        "outputId": "e45b5ecc-9be0-4c47-d0cf-e79db7a808bf"
      },
      "execution_count": 7,
      "outputs": [
        {
          "output_type": "execute_result",
          "data": {
            "text/plain": [
              "(150000, 12)"
            ]
          },
          "metadata": {},
          "execution_count": 7
        }
      ]
    },
    {
      "cell_type": "code",
      "source": [
        "data.dtypes"
      ],
      "metadata": {
        "colab": {
          "base_uri": "https://localhost:8080/"
        },
        "id": "JweKxOUMcjoN",
        "outputId": "d6445280-424f-4300-ac8d-248f0dbf60cf"
      },
      "execution_count": 8,
      "outputs": [
        {
          "output_type": "execute_result",
          "data": {
            "text/plain": [
              "SeriousDlqin2yrs                          int64\n",
              "RevolvingUtilizationOfUnsecuredLines    float64\n",
              "age                                     float64\n",
              "NumberOfTime30-59DaysPastDueNotWorse      int64\n",
              "DebtRatio                               float64\n",
              "MonthlyIncome                           float64\n",
              "NumberOfOpenCreditLinesAndLoans           int64\n",
              "NumberOfTimes90DaysLate                   int64\n",
              "NumberOfTime60-89DaysPastDueNotWorse      int64\n",
              "NumberOfDependents                      float64\n",
              "RealEstateLoansOrLines                   object\n",
              "GroupAge                                 object\n",
              "dtype: object"
            ]
          },
          "metadata": {},
          "execution_count": 8
        }
      ]
    },
    {
      "cell_type": "code",
      "source": [
        "data.info()"
      ],
      "metadata": {
        "colab": {
          "base_uri": "https://localhost:8080/"
        },
        "id": "XdyxePWIdQ3b",
        "outputId": "e09cc0a0-fda0-4e53-bcfc-a39f460c6e03"
      },
      "execution_count": 9,
      "outputs": [
        {
          "output_type": "stream",
          "name": "stdout",
          "text": [
            "<class 'pandas.core.frame.DataFrame'>\n",
            "RangeIndex: 150000 entries, 0 to 149999\n",
            "Data columns (total 12 columns):\n",
            " #   Column                                Non-Null Count   Dtype  \n",
            "---  ------                                --------------   -----  \n",
            " 0   SeriousDlqin2yrs                      150000 non-null  int64  \n",
            " 1   RevolvingUtilizationOfUnsecuredLines  150000 non-null  float64\n",
            " 2   age                                   135155 non-null  float64\n",
            " 3   NumberOfTime30-59DaysPastDueNotWorse  150000 non-null  int64  \n",
            " 4   DebtRatio                             150000 non-null  float64\n",
            " 5   MonthlyIncome                         120269 non-null  float64\n",
            " 6   NumberOfOpenCreditLinesAndLoans       150000 non-null  int64  \n",
            " 7   NumberOfTimes90DaysLate               150000 non-null  int64  \n",
            " 8   NumberOfTime60-89DaysPastDueNotWorse  150000 non-null  int64  \n",
            " 9   NumberOfDependents                    146076 non-null  float64\n",
            " 10  RealEstateLoansOrLines                150000 non-null  object \n",
            " 11  GroupAge                              150000 non-null  object \n",
            "dtypes: float64(5), int64(5), object(2)\n",
            "memory usage: 13.7+ MB\n"
          ]
        }
      ]
    },
    {
      "cell_type": "markdown",
      "source": [
        "# Разведочный анализ данных"
      ],
      "metadata": {
        "id": "DyDvVrp0dg-K"
      }
    },
    {
      "cell_type": "code",
      "source": [
        "data.isna().sum()"
      ],
      "metadata": {
        "colab": {
          "base_uri": "https://localhost:8080/"
        },
        "id": "ffjYLKjmdpz0",
        "outputId": "cc0613ab-2dea-4476-a91d-1d41caeb677b"
      },
      "execution_count": 10,
      "outputs": [
        {
          "output_type": "execute_result",
          "data": {
            "text/plain": [
              "SeriousDlqin2yrs                            0\n",
              "RevolvingUtilizationOfUnsecuredLines        0\n",
              "age                                     14845\n",
              "NumberOfTime30-59DaysPastDueNotWorse        0\n",
              "DebtRatio                                   0\n",
              "MonthlyIncome                           29731\n",
              "NumberOfOpenCreditLinesAndLoans             0\n",
              "NumberOfTimes90DaysLate                     0\n",
              "NumberOfTime60-89DaysPastDueNotWorse        0\n",
              "NumberOfDependents                       3924\n",
              "RealEstateLoansOrLines                      0\n",
              "GroupAge                                    0\n",
              "dtype: int64"
            ]
          },
          "metadata": {},
          "execution_count": 10
        }
      ]
    },
    {
      "cell_type": "markdown",
      "source": [
        "**Пропуски в признаках:**\n",
        "\n",
        "*   age \n",
        "*   MonthlyIncome\n",
        "*   NumberOfDependents\n",
        "\n",
        "Все данные числовые, заменяем на медиану, т.к. она более устойчива к выбросам."
      ],
      "metadata": {
        "id": "DyNJSXpwd1qX"
      }
    },
    {
      "cell_type": "code",
      "source": [
        "median = data['age'].median()\n",
        "data['age'].fillna(median, inplace=True)\n",
        "data.age.value_counts(dropna=False)"
      ],
      "metadata": {
        "colab": {
          "base_uri": "https://localhost:8080/"
        },
        "id": "aW5MqIh0e6bH",
        "outputId": "bb2f0254-c636-4b13-ab06-f4d3cee94335"
      },
      "execution_count": 18,
      "outputs": [
        {
          "output_type": "execute_result",
          "data": {
            "text/plain": [
              "52.0     18105\n",
              "49.0      3471\n",
              "48.0      3456\n",
              "63.0      3374\n",
              "50.0      3365\n",
              "         ...  \n",
              "101.0        2\n",
              "109.0        2\n",
              "107.0        1\n",
              "105.0        1\n",
              "0.0          1\n",
              "Name: age, Length: 86, dtype: int64"
            ]
          },
          "metadata": {},
          "execution_count": 18
        }
      ]
    },
    {
      "cell_type": "markdown",
      "source": [
        "Пропусков больше нет, но есть потенциально ошибочные данные - например, в одной заявке указан возраст 0, возможно, эту строку лучше удалить или тоже заменить на медиану? "
      ],
      "metadata": {
        "id": "2VVLlmwgh0jP"
      }
    },
    {
      "cell_type": "code",
      "source": [
        "data['age'].hist()"
      ],
      "metadata": {
        "colab": {
          "base_uri": "https://localhost:8080/",
          "height": 449
        },
        "id": "zzn1hRl8iOEu",
        "outputId": "f8ae9045-2bf3-43f9-f056-1e62524b15b3"
      },
      "execution_count": 23,
      "outputs": [
        {
          "output_type": "execute_result",
          "data": {
            "text/plain": [
              "<Axes: >"
            ]
          },
          "metadata": {},
          "execution_count": 23
        },
        {
          "output_type": "display_data",
          "data": {
            "text/plain": [
              "<Figure size 640x480 with 1 Axes>"
            ],
            "image/png": "[encoded data removed]"
          },
          "metadata": {}
        }
      ]
    },
    {
      "cell_type": "code",
      "source": [
        "median = data['MonthlyIncome'].median()\n",
        "data['MonthlyIncome'].fillna(median, inplace=True)\n",
        "data.MonthlyIncome.value_counts(dropna=False)"
      ],
      "metadata": {
        "colab": {
          "base_uri": "https://localhost:8080/"
        },
        "id": "7Kk60uDrfBP_",
        "outputId": "a0d69d54-95ea-4304-b48c-b45dc8217393"
      },
      "execution_count": 19,
      "outputs": [
        {
          "output_type": "execute_result",
          "data": {
            "text/plain": [
              "5400.0     30062\n",
              "5000.0      2757\n",
              "4000.0      2106\n",
              "6000.0      1934\n",
              "3000.0      1758\n",
              "           ...  \n",
              "11634.0        1\n",
              "29586.0        1\n",
              "9981.0         1\n",
              "34616.0        1\n",
              "596.0          1\n",
              "Name: MonthlyIncome, Length: 13594, dtype: int64"
            ]
          },
          "metadata": {},
          "execution_count": 19
        }
      ]
    },
    {
      "cell_type": "code",
      "source": [
        "data['MonthlyIncome'].hist() #гистограмма не соответствует статистике выше, не могу понять, в чем ошибка"
      ],
      "metadata": {
        "colab": {
          "base_uri": "https://localhost:8080/",
          "height": 467
        },
        "id": "S1UA-2C5qtMa",
        "outputId": "2a3d7e7a-53a9-48fd-9796-11b7cb0ed535"
      },
      "execution_count": 41,
      "outputs": [
        {
          "output_type": "execute_result",
          "data": {
            "text/plain": [
              "<Axes: >"
            ]
          },
          "metadata": {},
          "execution_count": 41
        },
        {
          "output_type": "display_data",
          "data": {
            "text/plain": [
              "<Figure size 640x480 with 1 Axes>"
            ],
            "image/png": "[encoded data removed]"
          },
          "metadata": {}
        }
      ]
    },
    {
      "cell_type": "markdown",
      "source": [],
      "metadata": {
        "id": "pR2IkBrcroQi"
      }
    },
    {
      "cell_type": "code",
      "source": [
        "median = data['NumberOfDependents'].median()\n",
        "data['NumberOfDependents'].fillna(median, inplace=True)\n",
        "data.NumberOfDependents.value_counts(dropna=False)"
      ],
      "metadata": {
        "colab": {
          "base_uri": "https://localhost:8080/"
        },
        "id": "QZqlif5Bf8_T",
        "outputId": "e1d77e1a-bf99-4e2b-f935-d5dee0eb4431"
      },
      "execution_count": 20,
      "outputs": [
        {
          "output_type": "execute_result",
          "data": {
            "text/plain": [
              "0.0     90826\n",
              "1.0     26316\n",
              "2.0     19522\n",
              "3.0      9483\n",
              "4.0      2862\n",
              "5.0       746\n",
              "6.0       158\n",
              "7.0        51\n",
              "8.0        24\n",
              "10.0        5\n",
              "9.0         5\n",
              "13.0        1\n",
              "20.0        1\n",
              "Name: NumberOfDependents, dtype: int64"
            ]
          },
          "metadata": {},
          "execution_count": 20
        }
      ]
    },
    {
      "cell_type": "code",
      "source": [
        "data['NumberOfDependents'].hist()"
      ],
      "metadata": {
        "colab": {
          "base_uri": "https://localhost:8080/",
          "height": 449
        },
        "id": "LN1TMqWhrE2-",
        "outputId": "6e3f83b9-5acd-4641-edc8-cfc68b56f92e"
      },
      "execution_count": 40,
      "outputs": [
        {
          "output_type": "execute_result",
          "data": {
            "text/plain": [
              "<Axes: >"
            ]
          },
          "metadata": {},
          "execution_count": 40
        },
        {
          "output_type": "display_data",
          "data": {
            "text/plain": [
              "<Figure size 640x480 with 1 Axes>"
            ],
            "image/png": "[encoded data removed]"
          },
          "metadata": {}
        }
      ]
    },
    {
      "cell_type": "code",
      "source": [
        "data.isna().sum()"
      ],
      "metadata": {
        "colab": {
          "base_uri": "https://localhost:8080/"
        },
        "id": "u-_KpNk3gXY8",
        "outputId": "825cf23f-52fb-4aee-e19c-fa8cf1091f27"
      },
      "execution_count": 21,
      "outputs": [
        {
          "output_type": "execute_result",
          "data": {
            "text/plain": [
              "SeriousDlqin2yrs                        0\n",
              "RevolvingUtilizationOfUnsecuredLines    0\n",
              "age                                     0\n",
              "NumberOfTime30-59DaysPastDueNotWorse    0\n",
              "DebtRatio                               0\n",
              "MonthlyIncome                           0\n",
              "NumberOfOpenCreditLinesAndLoans         0\n",
              "NumberOfTimes90DaysLate                 0\n",
              "NumberOfTime60-89DaysPastDueNotWorse    0\n",
              "NumberOfDependents                      0\n",
              "RealEstateLoansOrLines                  0\n",
              "GroupAge                                0\n",
              "dtype: int64"
            ]
          },
          "metadata": {},
          "execution_count": 21
        }
      ]
    },
    {
      "cell_type": "markdown",
      "source": [
        "Основные числовые характеристики"
      ],
      "metadata": {
        "id": "xtnBtQ0Hp9gZ"
      }
    },
    {
      "cell_type": "code",
      "source": [
        "data.describe()"
      ],
      "metadata": {
        "colab": {
          "base_uri": "https://localhost:8080/",
          "height": 300
        },
        "id": "r8p4OrU0iaZP",
        "outputId": "c5b8d17a-16cc-46fd-be73-d2e232dd8b66"
      },
      "execution_count": 22,
      "outputs": [
        {
          "output_type": "execute_result",
          "data": {
            "text/plain": [
              "       SeriousDlqin2yrs  RevolvingUtilizationOfUnsecuredLines            age  \\\n",
              "count     150000.000000                         150000.000000  150000.000000   \n",
              "mean           0.066840                              6.048438      52.264560   \n",
              "std            0.249746                            249.755371      14.022809   \n",
              "min            0.000000                              0.000000       0.000000   \n",
              "25%            0.000000                              0.029867      43.000000   \n",
              "50%            0.000000                              0.154181      52.000000   \n",
              "75%            0.000000                              0.559046      61.000000   \n",
              "max            1.000000                          50708.000000     109.000000   \n",
              "\n",
              "       NumberOfTime30-59DaysPastDueNotWorse      DebtRatio  MonthlyIncome  \\\n",
              "count                         150000.000000  150000.000000   1.500000e+05   \n",
              "mean                               0.421033     353.005076   6.418455e+03   \n",
              "std                                4.192781    2037.818523   1.289040e+04   \n",
              "min                                0.000000       0.000000   0.000000e+00   \n",
              "25%                                0.000000       0.175074   3.903000e+03   \n",
              "50%                                0.000000       0.366508   5.400000e+03   \n",
              "75%                                0.000000       0.868254   7.400000e+03   \n",
              "max                               98.000000  329664.000000   3.008750e+06   \n",
              "\n",
              "       NumberOfOpenCreditLinesAndLoans  NumberOfTimes90DaysLate  \\\n",
              "count                    150000.000000            150000.000000   \n",
              "mean                          8.452760                 0.265973   \n",
              "std                           5.145951                 4.169304   \n",
              "min                           0.000000                 0.000000   \n",
              "25%                           5.000000                 0.000000   \n",
              "50%                           8.000000                 0.000000   \n",
              "75%                          11.000000                 0.000000   \n",
              "max                          58.000000                98.000000   \n",
              "\n",
              "       NumberOfTime60-89DaysPastDueNotWorse  NumberOfDependents  \n",
              "count                         150000.000000       150000.000000  \n",
              "mean                               0.240387            0.737413  \n",
              "std                                4.155179            1.107021  \n",
              "min                                0.000000            0.000000  \n",
              "25%                                0.000000            0.000000  \n",
              "50%                                0.000000            0.000000  \n",
              "75%                                0.000000            1.000000  \n",
              "max                               98.000000           20.000000  "
            ],
            "text/html": [
              "\n",
              "  <div id=\"df-6112f7d5-245a-4845-b120-b5247628f1ac\">\n",
              "    <div class=\"colab-df-container\">\n",
              "      <div>\n",
              "<style scoped>\n",
              "    .dataframe tbody tr th:only-of-type {\n",
              "        vertical-align: middle;\n",
              "    }\n",
              "\n",
              "    .dataframe tbody tr th {\n",
              "        vertical-align: top;\n",
              "    }\n",
              "\n",
              "    .dataframe thead th {\n",
              "        text-align: right;\n",
              "    }\n",
              "</style>\n",
              "<table border=\"1\" class=\"dataframe\">\n",
              "  <thead>\n",
              "    <tr style=\"text-align: right;\">\n",
              "      <th></th>\n",
              "      <th>SeriousDlqin2yrs</th>\n",
              "      <th>RevolvingUtilizationOfUnsecuredLines</th>\n",
              "      <th>age</th>\n",
              "      <th>NumberOfTime30-59DaysPastDueNotWorse</th>\n",
              "      <th>DebtRatio</th>\n",
              "      <th>MonthlyIncome</th>\n",
              "      <th>NumberOfOpenCreditLinesAndLoans</th>\n",
              "      <th>NumberOfTimes90DaysLate</th>\n",
              "      <th>NumberOfTime60-89DaysPastDueNotWorse</th>\n",
              "      <th>NumberOfDependents</th>\n",
              "    </tr>\n",
              "  </thead>\n",
              "  <tbody>\n",
              "    <tr>\n",
              "      <th>count</th>\n",
              "      <td>150000.000000</td>\n",
              "      <td>150000.000000</td>\n",
              "      <td>150000.000000</td>\n",
              "      <td>150000.000000</td>\n",
              "      <td>150000.000000</td>\n",
              "      <td>1.500000e+05</td>\n",
              "      <td>150000.000000</td>\n",
              "      <td>150000.000000</td>\n",
              "      <td>150000.000000</td>\n",
              "      <td>150000.000000</td>\n",
              "    </tr>\n",
              "    <tr>\n",
              "      <th>mean</th>\n",
              "      <td>0.066840</td>\n",
              "      <td>6.048438</td>\n",
              "      <td>52.264560</td>\n",
              "      <td>0.421033</td>\n",
              "      <td>353.005076</td>\n",
              "      <td>6.418455e+03</td>\n",
              "      <td>8.452760</td>\n",
              "      <td>0.265973</td>\n",
              "      <td>0.240387</td>\n",
              "      <td>0.737413</td>\n",
              "    </tr>\n",
              "    <tr>\n",
              "      <th>std</th>\n",
              "      <td>0.249746</td>\n",
              "      <td>249.755371</td>\n",
              "      <td>14.022809</td>\n",
              "      <td>4.192781</td>\n",
              "      <td>2037.818523</td>\n",
              "      <td>1.289040e+04</td>\n",
              "      <td>5.145951</td>\n",
              "      <td>4.169304</td>\n",
              "      <td>4.155179</td>\n",
              "      <td>1.107021</td>\n",
              "    </tr>\n",
              "    <tr>\n",
              "      <th>min</th>\n",
              "      <td>0.000000</td>\n",
              "      <td>0.000000</td>\n",
              "      <td>0.000000</td>\n",
              "      <td>0.000000</td>\n",
              "      <td>0.000000</td>\n",
              "      <td>0.000000e+00</td>\n",
              "      <td>0.000000</td>\n",
              "      <td>0.000000</td>\n",
              "      <td>0.000000</td>\n",
              "      <td>0.000000</td>\n",
              "    </tr>\n",
              "    <tr>\n",
              "      <th>25%</th>\n",
              "      <td>0.000000</td>\n",
              "      <td>0.029867</td>\n",
              "      <td>43.000000</td>\n",
              "      <td>0.000000</td>\n",
              "      <td>0.175074</td>\n",
              "      <td>3.903000e+03</td>\n",
              "      <td>5.000000</td>\n",
              "      <td>0.000000</td>\n",
              "      <td>0.000000</td>\n",
              "      <td>0.000000</td>\n",
              "    </tr>\n",
              "    <tr>\n",
              "      <th>50%</th>\n",
              "      <td>0.000000</td>\n",
              "      <td>0.154181</td>\n",
              "      <td>52.000000</td>\n",
              "      <td>0.000000</td>\n",
              "      <td>0.366508</td>\n",
              "      <td>5.400000e+03</td>\n",
              "      <td>8.000000</td>\n",
              "      <td>0.000000</td>\n",
              "      <td>0.000000</td>\n",
              "      <td>0.000000</td>\n",
              "    </tr>\n",
              "    <tr>\n",
              "      <th>75%</th>\n",
              "      <td>0.000000</td>\n",
              "      <td>0.559046</td>\n",
              "      <td>61.000000</td>\n",
              "      <td>0.000000</td>\n",
              "      <td>0.868254</td>\n",
              "      <td>7.400000e+03</td>\n",
              "      <td>11.000000</td>\n",
              "      <td>0.000000</td>\n",
              "      <td>0.000000</td>\n",
              "      <td>1.000000</td>\n",
              "    </tr>\n",
              "    <tr>\n",
              "      <th>max</th>\n",
              "      <td>1.000000</td>\n",
              "      <td>50708.000000</td>\n",
              "      <td>109.000000</td>\n",
              "      <td>98.000000</td>\n",
              "      <td>329664.000000</td>\n",
              "      <td>3.008750e+06</td>\n",
              "      <td>58.000000</td>\n",
              "      <td>98.000000</td>\n",
              "      <td>98.000000</td>\n",
              "      <td>20.000000</td>\n",
              "    </tr>\n",
              "  </tbody>\n",
              "</table>\n",
              "</div>\n",
              "      <button class=\"colab-df-convert\" onclick=\"convertToInteractive('df-6112f7d5-245a-4845-b120-b5247628f1ac')\"\n",
              "              title=\"Convert this dataframe to an interactive table.\"\n",
              "              style=\"display:none;\">\n",
              "        \n",
              "  <svg xmlns=\"http://www.w3.org/2000/svg\" height=\"24px\"viewBox=\"0 0 24 24\"\n",
              "       width=\"24px\">\n",
              "    <path d=\"M0 0h24v24H0V0z\" fill=\"none\"/>\n",
              "    <path d=\"M18.56 5.44l.94 2.06.94-2.06 2.06-.94-2.06-.94-.94-2.06-.94 2.06-2.06.94zm-11 1L8.5 8.5l.94-2.06 2.06-.94-2.06-.94L8.5 2.5l-.94 2.06-2.06.94zm10 10l.94 2.06.94-2.06 2.06-.94-2.06-.94-.94-2.06-.94 2.06-2.06.94z\"/><path d=\"M17.41 7.96l-1.37-1.37c-.4-.4-.92-.59-1.43-.59-.52 0-1.04.2-1.43.59L10.3 9.45l-7.72 7.72c-.78.78-.78 2.05 0 2.83L4 21.41c.39.39.9.59 1.41.59.51 0 1.02-.2 1.41-.59l7.78-7.78 2.81-2.81c.8-.78.8-2.07 0-2.86zM5.41 20L4 18.59l7.72-7.72 1.47 1.35L5.41 20z\"/>\n",
              "  </svg>\n",
              "      </button>\n",
              "      \n",
              "  <style>\n",
              "    .colab-df-container {\n",
              "      display:flex;\n",
              "      flex-wrap:wrap;\n",
              "      gap: 12px;\n",
              "    }\n",
              "\n",
              "    .colab-df-convert {\n",
              "      background-color: #E8F0FE;\n",
              "      border: none;\n",
              "      border-radius: 50%;\n",
              "      cursor: pointer;\n",
              "      display: none;\n",
              "      fill: #1967D2;\n",
              "      height: 32px;\n",
              "      padding: 0 0 0 0;\n",
              "      width: 32px;\n",
              "    }\n",
              "\n",
              "    .colab-df-convert:hover {\n",
              "      background-color: #E2EBFA;\n",
              "      box-shadow: 0px 1px 2px rgba(60, 64, 67, 0.3), 0px 1px 3px 1px rgba(60, 64, 67, 0.15);\n",
              "      fill: #174EA6;\n",
              "    }\n",
              "\n",
              "    [theme=dark] .colab-df-convert {\n",
              "      background-color: #3B4455;\n",
              "      fill: #D2E3FC;\n",
              "    }\n",
              "\n",
              "    [theme=dark] .colab-df-convert:hover {\n",
              "      background-color: #434B5C;\n",
              "      box-shadow: 0px 1px 3px 1px rgba(0, 0, 0, 0.15);\n",
              "      filter: drop-shadow(0px 1px 2px rgba(0, 0, 0, 0.3));\n",
              "      fill: #FFFFFF;\n",
              "    }\n",
              "  </style>\n",
              "\n",
              "      <script>\n",
              "        const buttonEl =\n",
              "          document.querySelector('#df-6112f7d5-245a-4845-b120-b5247628f1ac button.colab-df-convert');\n",
              "        buttonEl.style.display =\n",
              "          google.colab.kernel.accessAllowed ? 'block' : 'none';\n",
              "\n",
              "        async function convertToInteractive(key) {\n",
              "          const element = document.querySelector('#df-6112f7d5-245a-4845-b120-b5247628f1ac');\n",
              "          const dataTable =\n",
              "            await google.colab.kernel.invokeFunction('convertToInteractive',\n",
              "                                                     [key], {});\n",
              "          if (!dataTable) return;\n",
              "\n",
              "          const docLinkHtml = 'Like what you see? Visit the ' +\n",
              "            '<a target=\"_blank\" href=https://colab.research.google.com/notebooks/data_table.ipynb>data table notebook</a>'\n",
              "            + ' to learn more about interactive tables.';\n",
              "          element.innerHTML = '';\n",
              "          dataTable['output_type'] = 'display_data';\n",
              "          await google.colab.output.renderOutput(dataTable, element);\n",
              "          const docLink = document.createElement('div');\n",
              "          docLink.innerHTML = docLinkHtml;\n",
              "          element.appendChild(docLink);\n",
              "        }\n",
              "      </script>\n",
              "    </div>\n",
              "  </div>\n",
              "  "
            ]
          },
          "metadata": {},
          "execution_count": 22
        }
      ]
    },
    {
      "cell_type": "markdown",
      "source": [
        "Построим матрицу корреляций, чтобы оценить, нет ли дублирующих параметров "
      ],
      "metadata": {
        "id": "VC5Exp3ri2MV"
      }
    },
    {
      "cell_type": "code",
      "source": [
        "corr = data.corr()\n",
        "corr.style.background_gradient(cmap='coolwarm')"
      ],
      "metadata": {
        "colab": {
          "base_uri": "https://localhost:8080/",
          "height": 363
        },
        "id": "MQoig3ENiz6f",
        "outputId": "15b98056-5951-4e72-ca4e-5244cd154fad"
      },
      "execution_count": 24,
      "outputs": [
        {
          "output_type": "execute_result",
          "data": {
            "text/plain": [
              "<pandas.io.formats.style.Styler at 0x7f448a90c310>"
            ],
            "text/html": [
              "<style type=\"text/css\">\n",
              "#T_41960_row0_col0, #T_41960_row1_col1, #T_41960_row2_col2, #T_41960_row3_col3, #T_41960_row4_col4, #T_41960_row5_col5, #T_41960_row6_col6, #T_41960_row7_col7, #T_41960_row8_col8, #T_41960_row9_col9 {\n",
              "  background-color: #b40426;\n",
              "  color: #f1f1f1;\n",
              "}\n",
              "#T_41960_row0_col1, #T_41960_row3_col1, #T_41960_row3_col5, #T_41960_row7_col1, #T_41960_row8_col1, #T_41960_row8_col5, #T_41960_row8_col6 {\n",
              "  background-color: #3d50c3;\n",
              "  color: #f1f1f1;\n",
              "}\n",
              "#T_41960_row0_col2 {\n",
              "  background-color: #536edd;\n",
              "  color: #f1f1f1;\n",
              "}\n",
              "#T_41960_row0_col3 {\n",
              "  background-color: #7295f4;\n",
              "  color: #f1f1f1;\n",
              "}\n",
              "#T_41960_row0_col4, #T_41960_row3_col4, #T_41960_row8_col4 {\n",
              "  background-color: #455cce;\n",
              "  color: #f1f1f1;\n",
              "}\n",
              "#T_41960_row0_col5, #T_41960_row2_col0, #T_41960_row2_col3, #T_41960_row2_col9, #T_41960_row4_col5, #T_41960_row6_col1, #T_41960_row6_col7, #T_41960_row6_col8, #T_41960_row7_col6, #T_41960_row9_col2, #T_41960_row9_col4 {\n",
              "  background-color: #3b4cc0;\n",
              "  color: #f1f1f1;\n",
              "}\n",
              "#T_41960_row0_col6, #T_41960_row1_col4 {\n",
              "  background-color: #485fd1;\n",
              "  color: #f1f1f1;\n",
              "}\n",
              "#T_41960_row0_col7 {\n",
              "  background-color: #7597f6;\n",
              "  color: #f1f1f1;\n",
              "}\n",
              "#T_41960_row0_col8 {\n",
              "  background-color: #6e90f2;\n",
              "  color: #f1f1f1;\n",
              "}\n",
              "#T_41960_row0_col9 {\n",
              "  background-color: #7ea1fa;\n",
              "  color: #f1f1f1;\n",
              "}\n",
              "#T_41960_row1_col0 {\n",
              "  background-color: #5875e1;\n",
              "  color: #f1f1f1;\n",
              "}\n",
              "#T_41960_row1_col2, #T_41960_row3_col9 {\n",
              "  background-color: #6f92f3;\n",
              "  color: #f1f1f1;\n",
              "}\n",
              "#T_41960_row1_col3, #T_41960_row5_col8 {\n",
              "  background-color: #4b64d5;\n",
              "  color: #f1f1f1;\n",
              "}\n",
              "#T_41960_row1_col5, #T_41960_row5_col4 {\n",
              "  background-color: #4257c9;\n",
              "  color: #f1f1f1;\n",
              "}\n",
              "#T_41960_row1_col6, #T_41960_row1_col8, #T_41960_row2_col4, #T_41960_row4_col7, #T_41960_row5_col7, #T_41960_row9_col7 {\n",
              "  background-color: #4e68d8;\n",
              "  color: #f1f1f1;\n",
              "}\n",
              "#T_41960_row1_col7, #T_41960_row6_col0 {\n",
              "  background-color: #506bda;\n",
              "  color: #f1f1f1;\n",
              "}\n",
              "#T_41960_row1_col9 {\n",
              "  background-color: #7093f3;\n",
              "  color: #f1f1f1;\n",
              "}\n",
              "#T_41960_row2_col1, #T_41960_row6_col3, #T_41960_row7_col5 {\n",
              "  background-color: #3c4ec2;\n",
              "  color: #f1f1f1;\n",
              "}\n",
              "#T_41960_row2_col5 {\n",
              "  background-color: #465ecf;\n",
              "  color: #f1f1f1;\n",
              "}\n",
              "#T_41960_row2_col6, #T_41960_row7_col0 {\n",
              "  background-color: #7da0f9;\n",
              "  color: #f1f1f1;\n",
              "}\n",
              "#T_41960_row2_col7, #T_41960_row3_col6 {\n",
              "  background-color: #4055c8;\n",
              "  color: #f1f1f1;\n",
              "}\n",
              "#T_41960_row2_col8, #T_41960_row4_col1, #T_41960_row9_col1 {\n",
              "  background-color: #3e51c5;\n",
              "  color: #f1f1f1;\n",
              "}\n",
              "#T_41960_row3_col0 {\n",
              "  background-color: #80a3fa;\n",
              "  color: #f1f1f1;\n",
              "}\n",
              "#T_41960_row3_col2, #T_41960_row4_col6 {\n",
              "  background-color: #5f7fe8;\n",
              "  color: #f1f1f1;\n",
              "}\n",
              "#T_41960_row3_col7, #T_41960_row3_col8, #T_41960_row7_col3, #T_41960_row8_col3 {\n",
              "  background-color: #b8122a;\n",
              "  color: #f1f1f1;\n",
              "}\n",
              "#T_41960_row4_col0, #T_41960_row6_col4 {\n",
              "  background-color: #5673e0;\n",
              "  color: #f1f1f1;\n",
              "}\n",
              "#T_41960_row4_col2, #T_41960_row5_col2, #T_41960_row8_col0 {\n",
              "  background-color: #779af7;\n",
              "  color: #f1f1f1;\n",
              "}\n",
              "#T_41960_row4_col3, #T_41960_row5_col3 {\n",
              "  background-color: #4961d2;\n",
              "  color: #f1f1f1;\n",
              "}\n",
              "#T_41960_row4_col8 {\n",
              "  background-color: #4c66d6;\n",
              "  color: #f1f1f1;\n",
              "}\n",
              "#T_41960_row4_col9 {\n",
              "  background-color: #6384eb;\n",
              "  color: #f1f1f1;\n",
              "}\n",
              "#T_41960_row5_col0, #T_41960_row9_col5 {\n",
              "  background-color: #5470de;\n",
              "  color: #f1f1f1;\n",
              "}\n",
              "#T_41960_row5_col1 {\n",
              "  background-color: #3f53c6;\n",
              "  color: #f1f1f1;\n",
              "}\n",
              "#T_41960_row5_col6 {\n",
              "  background-color: #6b8df0;\n",
              "  color: #f1f1f1;\n",
              "}\n",
              "#T_41960_row5_col9 {\n",
              "  background-color: #84a7fc;\n",
              "  color: #f1f1f1;\n",
              "}\n",
              "#T_41960_row6_col2 {\n",
              "  background-color: #9abbff;\n",
              "  color: #000000;\n",
              "}\n",
              "#T_41960_row6_col5 {\n",
              "  background-color: #5a78e4;\n",
              "  color: #f1f1f1;\n",
              "}\n",
              "#T_41960_row6_col9 {\n",
              "  background-color: #86a9fc;\n",
              "  color: #f1f1f1;\n",
              "}\n",
              "#T_41960_row7_col2, #T_41960_row8_col2 {\n",
              "  background-color: #6180e9;\n",
              "  color: #f1f1f1;\n",
              "}\n",
              "#T_41960_row7_col4 {\n",
              "  background-color: #445acc;\n",
              "  color: #f1f1f1;\n",
              "}\n",
              "#T_41960_row7_col8, #T_41960_row8_col7 {\n",
              "  background-color: #b50927;\n",
              "  color: #f1f1f1;\n",
              "}\n",
              "#T_41960_row7_col9, #T_41960_row8_col9 {\n",
              "  background-color: #6c8ff1;\n",
              "  color: #f1f1f1;\n",
              "}\n",
              "#T_41960_row9_col0, #T_41960_row9_col6 {\n",
              "  background-color: #6788ee;\n",
              "  color: #f1f1f1;\n",
              "}\n",
              "#T_41960_row9_col3, #T_41960_row9_col8 {\n",
              "  background-color: #4a63d3;\n",
              "  color: #f1f1f1;\n",
              "}\n",
              "</style>\n",
              "<table id=\"T_41960\" class=\"dataframe\">\n",
              "  <thead>\n",
              "    <tr>\n",
              "      <th class=\"blank level0\" >&nbsp;</th>\n",
              "      <th id=\"T_41960_level0_col0\" class=\"col_heading level0 col0\" >SeriousDlqin2yrs</th>\n",
              "      <th id=\"T_41960_level0_col1\" class=\"col_heading level0 col1\" >RevolvingUtilizationOfUnsecuredLines</th>\n",
              "      <th id=\"T_41960_level0_col2\" class=\"col_heading level0 col2\" >age</th>\n",
              "      <th id=\"T_41960_level0_col3\" class=\"col_heading level0 col3\" >NumberOfTime30-59DaysPastDueNotWorse</th>\n",
              "      <th id=\"T_41960_level0_col4\" class=\"col_heading level0 col4\" >DebtRatio</th>\n",
              "      <th id=\"T_41960_level0_col5\" class=\"col_heading level0 col5\" >MonthlyIncome</th>\n",
              "      <th id=\"T_41960_level0_col6\" class=\"col_heading level0 col6\" >NumberOfOpenCreditLinesAndLoans</th>\n",
              "      <th id=\"T_41960_level0_col7\" class=\"col_heading level0 col7\" >NumberOfTimes90DaysLate</th>\n",
              "      <th id=\"T_41960_level0_col8\" class=\"col_heading level0 col8\" >NumberOfTime60-89DaysPastDueNotWorse</th>\n",
              "      <th id=\"T_41960_level0_col9\" class=\"col_heading level0 col9\" >NumberOfDependents</th>\n",
              "    </tr>\n",
              "  </thead>\n",
              "  <tbody>\n",
              "    <tr>\n",
              "      <th id=\"T_41960_level0_row0\" class=\"row_heading level0 row0\" >SeriousDlqin2yrs</th>\n",
              "      <td id=\"T_41960_row0_col0\" class=\"data row0 col0\" >1.000000</td>\n",
              "      <td id=\"T_41960_row0_col1\" class=\"data row0 col1\" >-0.001802</td>\n",
              "      <td id=\"T_41960_row0_col2\" class=\"data row0 col2\" >-0.110115</td>\n",
              "      <td id=\"T_41960_row0_col3\" class=\"data row0 col3\" >0.125587</td>\n",
              "      <td id=\"T_41960_row0_col4\" class=\"data row0 col4\" >-0.007602</td>\n",
              "      <td id=\"T_41960_row0_col5\" class=\"data row0 col5\" >-0.017151</td>\n",
              "      <td id=\"T_41960_row0_col6\" class=\"data row0 col6\" >-0.029669</td>\n",
              "      <td id=\"T_41960_row0_col7\" class=\"data row0 col7\" >0.117175</td>\n",
              "      <td id=\"T_41960_row0_col8\" class=\"data row0 col8\" >0.102261</td>\n",
              "      <td id=\"T_41960_row0_col9\" class=\"data row0 col9\" >0.046869</td>\n",
              "    </tr>\n",
              "    <tr>\n",
              "      <th id=\"T_41960_level0_row1\" class=\"row_heading level0 row1\" >RevolvingUtilizationOfUnsecuredLines</th>\n",
              "      <td id=\"T_41960_row1_col0\" class=\"data row1 col0\" >-0.001802</td>\n",
              "      <td id=\"T_41960_row1_col1\" class=\"data row1 col1\" >1.000000</td>\n",
              "      <td id=\"T_41960_row1_col2\" class=\"data row1 col2\" >-0.005429</td>\n",
              "      <td id=\"T_41960_row1_col3\" class=\"data row1 col3\" >-0.001314</td>\n",
              "      <td id=\"T_41960_row1_col4\" class=\"data row1 col4\" >0.003961</td>\n",
              "      <td id=\"T_41960_row1_col5\" class=\"data row1 col5\" >0.006513</td>\n",
              "      <td id=\"T_41960_row1_col6\" class=\"data row1 col6\" >-0.011281</td>\n",
              "      <td id=\"T_41960_row1_col7\" class=\"data row1 col7\" >-0.001061</td>\n",
              "      <td id=\"T_41960_row1_col8\" class=\"data row1 col8\" >-0.001048</td>\n",
              "      <td id=\"T_41960_row1_col9\" class=\"data row1 col9\" >0.001193</td>\n",
              "    </tr>\n",
              "    <tr>\n",
              "      <th id=\"T_41960_level0_row2\" class=\"row_heading level0 row2\" >age</th>\n",
              "      <td id=\"T_41960_row2_col0\" class=\"data row2 col0\" >-0.110115</td>\n",
              "      <td id=\"T_41960_row2_col1\" class=\"data row2 col1\" >-0.005429</td>\n",
              "      <td id=\"T_41960_row2_col2\" class=\"data row2 col2\" >1.000000</td>\n",
              "      <td id=\"T_41960_row2_col3\" class=\"data row2 col3\" >-0.059947</td>\n",
              "      <td id=\"T_41960_row2_col4\" class=\"data row2 col4\" >0.022807</td>\n",
              "      <td id=\"T_41960_row2_col5\" class=\"data row2 col5\" >0.025312</td>\n",
              "      <td id=\"T_41960_row2_col6\" class=\"data row2 col6\" >0.140710</td>\n",
              "      <td id=\"T_41960_row2_col7\" class=\"data row2 col7\" >-0.057991</td>\n",
              "      <td id=\"T_41960_row2_col8\" class=\"data row2 col8\" >-0.054372</td>\n",
              "      <td id=\"T_41960_row2_col9\" class=\"data row2 col9\" >-0.204370</td>\n",
              "    </tr>\n",
              "    <tr>\n",
              "      <th id=\"T_41960_level0_row3\" class=\"row_heading level0 row3\" >NumberOfTime30-59DaysPastDueNotWorse</th>\n",
              "      <td id=\"T_41960_row3_col0\" class=\"data row3 col0\" >0.125587</td>\n",
              "      <td id=\"T_41960_row3_col1\" class=\"data row3 col1\" >-0.001314</td>\n",
              "      <td id=\"T_41960_row3_col2\" class=\"data row3 col2\" >-0.059947</td>\n",
              "      <td id=\"T_41960_row3_col3\" class=\"data row3 col3\" >1.000000</td>\n",
              "      <td id=\"T_41960_row3_col4\" class=\"data row3 col4\" >-0.006542</td>\n",
              "      <td id=\"T_41960_row3_col5\" class=\"data row3 col5\" >-0.008370</td>\n",
              "      <td id=\"T_41960_row3_col6\" class=\"data row3 col6\" >-0.055312</td>\n",
              "      <td id=\"T_41960_row3_col7\" class=\"data row3 col7\" >0.983603</td>\n",
              "      <td id=\"T_41960_row3_col8\" class=\"data row3 col8\" >0.987005</td>\n",
              "      <td id=\"T_41960_row3_col9\" class=\"data row3 col9\" >-0.004590</td>\n",
              "    </tr>\n",
              "    <tr>\n",
              "      <th id=\"T_41960_level0_row4\" class=\"row_heading level0 row4\" >DebtRatio</th>\n",
              "      <td id=\"T_41960_row4_col0\" class=\"data row4 col0\" >-0.007602</td>\n",
              "      <td id=\"T_41960_row4_col1\" class=\"data row4 col1\" >0.003961</td>\n",
              "      <td id=\"T_41960_row4_col2\" class=\"data row4 col2\" >0.022807</td>\n",
              "      <td id=\"T_41960_row4_col3\" class=\"data row4 col3\" >-0.006542</td>\n",
              "      <td id=\"T_41960_row4_col4\" class=\"data row4 col4\" >1.000000</td>\n",
              "      <td id=\"T_41960_row4_col5\" class=\"data row4 col5\" >-0.018006</td>\n",
              "      <td id=\"T_41960_row4_col6\" class=\"data row4 col6\" >0.049565</td>\n",
              "      <td id=\"T_41960_row4_col7\" class=\"data row4 col7\" >-0.008320</td>\n",
              "      <td id=\"T_41960_row4_col8\" class=\"data row4 col8\" >-0.007533</td>\n",
              "      <td id=\"T_41960_row4_col9\" class=\"data row4 col9\" >-0.044476</td>\n",
              "    </tr>\n",
              "    <tr>\n",
              "      <th id=\"T_41960_level0_row5\" class=\"row_heading level0 row5\" >MonthlyIncome</th>\n",
              "      <td id=\"T_41960_row5_col0\" class=\"data row5 col0\" >-0.017151</td>\n",
              "      <td id=\"T_41960_row5_col1\" class=\"data row5 col1\" >0.006513</td>\n",
              "      <td id=\"T_41960_row5_col2\" class=\"data row5 col2\" >0.025312</td>\n",
              "      <td id=\"T_41960_row5_col3\" class=\"data row5 col3\" >-0.008370</td>\n",
              "      <td id=\"T_41960_row5_col4\" class=\"data row5 col4\" >-0.018006</td>\n",
              "      <td id=\"T_41960_row5_col5\" class=\"data row5 col5\" >1.000000</td>\n",
              "      <td id=\"T_41960_row5_col6\" class=\"data row5 col6\" >0.086949</td>\n",
              "      <td id=\"T_41960_row5_col7\" class=\"data row5 col7\" >-0.010500</td>\n",
              "      <td id=\"T_41960_row5_col8\" class=\"data row5 col8\" >-0.009252</td>\n",
              "      <td id=\"T_41960_row5_col9\" class=\"data row5 col9\" >0.066314</td>\n",
              "    </tr>\n",
              "    <tr>\n",
              "      <th id=\"T_41960_level0_row6\" class=\"row_heading level0 row6\" >NumberOfOpenCreditLinesAndLoans</th>\n",
              "      <td id=\"T_41960_row6_col0\" class=\"data row6 col0\" >-0.029669</td>\n",
              "      <td id=\"T_41960_row6_col1\" class=\"data row6 col1\" >-0.011281</td>\n",
              "      <td id=\"T_41960_row6_col2\" class=\"data row6 col2\" >0.140710</td>\n",
              "      <td id=\"T_41960_row6_col3\" class=\"data row6 col3\" >-0.055312</td>\n",
              "      <td id=\"T_41960_row6_col4\" class=\"data row6 col4\" >0.049565</td>\n",
              "      <td id=\"T_41960_row6_col5\" class=\"data row6 col5\" >0.086949</td>\n",
              "      <td id=\"T_41960_row6_col6\" class=\"data row6 col6\" >1.000000</td>\n",
              "      <td id=\"T_41960_row6_col7\" class=\"data row6 col7\" >-0.079984</td>\n",
              "      <td id=\"T_41960_row6_col8\" class=\"data row6 col8\" >-0.071077</td>\n",
              "      <td id=\"T_41960_row6_col9\" class=\"data row6 col9\" >0.074026</td>\n",
              "    </tr>\n",
              "    <tr>\n",
              "      <th id=\"T_41960_level0_row7\" class=\"row_heading level0 row7\" >NumberOfTimes90DaysLate</th>\n",
              "      <td id=\"T_41960_row7_col0\" class=\"data row7 col0\" >0.117175</td>\n",
              "      <td id=\"T_41960_row7_col1\" class=\"data row7 col1\" >-0.001061</td>\n",
              "      <td id=\"T_41960_row7_col2\" class=\"data row7 col2\" >-0.057991</td>\n",
              "      <td id=\"T_41960_row7_col3\" class=\"data row7 col3\" >0.983603</td>\n",
              "      <td id=\"T_41960_row7_col4\" class=\"data row7 col4\" >-0.008320</td>\n",
              "      <td id=\"T_41960_row7_col5\" class=\"data row7 col5\" >-0.010500</td>\n",
              "      <td id=\"T_41960_row7_col6\" class=\"data row7 col6\" >-0.079984</td>\n",
              "      <td id=\"T_41960_row7_col7\" class=\"data row7 col7\" >1.000000</td>\n",
              "      <td id=\"T_41960_row7_col8\" class=\"data row7 col8\" >0.992796</td>\n",
              "      <td id=\"T_41960_row7_col9\" class=\"data row7 col9\" >-0.011962</td>\n",
              "    </tr>\n",
              "    <tr>\n",
              "      <th id=\"T_41960_level0_row8\" class=\"row_heading level0 row8\" >NumberOfTime60-89DaysPastDueNotWorse</th>\n",
              "      <td id=\"T_41960_row8_col0\" class=\"data row8 col0\" >0.102261</td>\n",
              "      <td id=\"T_41960_row8_col1\" class=\"data row8 col1\" >-0.001048</td>\n",
              "      <td id=\"T_41960_row8_col2\" class=\"data row8 col2\" >-0.054372</td>\n",
              "      <td id=\"T_41960_row8_col3\" class=\"data row8 col3\" >0.987005</td>\n",
              "      <td id=\"T_41960_row8_col4\" class=\"data row8 col4\" >-0.007533</td>\n",
              "      <td id=\"T_41960_row8_col5\" class=\"data row8 col5\" >-0.009252</td>\n",
              "      <td id=\"T_41960_row8_col6\" class=\"data row8 col6\" >-0.071077</td>\n",
              "      <td id=\"T_41960_row8_col7\" class=\"data row8 col7\" >0.992796</td>\n",
              "      <td id=\"T_41960_row8_col8\" class=\"data row8 col8\" >1.000000</td>\n",
              "      <td id=\"T_41960_row8_col9\" class=\"data row8 col9\" >-0.012678</td>\n",
              "    </tr>\n",
              "    <tr>\n",
              "      <th id=\"T_41960_level0_row9\" class=\"row_heading level0 row9\" >NumberOfDependents</th>\n",
              "      <td id=\"T_41960_row9_col0\" class=\"data row9 col0\" >0.046869</td>\n",
              "      <td id=\"T_41960_row9_col1\" class=\"data row9 col1\" >0.001193</td>\n",
              "      <td id=\"T_41960_row9_col2\" class=\"data row9 col2\" >-0.204370</td>\n",
              "      <td id=\"T_41960_row9_col3\" class=\"data row9 col3\" >-0.004590</td>\n",
              "      <td id=\"T_41960_row9_col4\" class=\"data row9 col4\" >-0.044476</td>\n",
              "      <td id=\"T_41960_row9_col5\" class=\"data row9 col5\" >0.066314</td>\n",
              "      <td id=\"T_41960_row9_col6\" class=\"data row9 col6\" >0.074026</td>\n",
              "      <td id=\"T_41960_row9_col7\" class=\"data row9 col7\" >-0.011962</td>\n",
              "      <td id=\"T_41960_row9_col8\" class=\"data row9 col8\" >-0.012678</td>\n",
              "      <td id=\"T_41960_row9_col9\" class=\"data row9 col9\" >1.000000</td>\n",
              "    </tr>\n",
              "  </tbody>\n",
              "</table>\n"
            ]
          },
          "metadata": {},
          "execution_count": 24
        }
      ]
    },
    {
      "cell_type": "markdown",
      "source": [
        "Наблюдается высокая корреляция между кол-вом выходов на просрочку 30+ дней, 60+ дней и 90+ дней. Займем более консервативную позицию и и оставим параметр кол-во выходов на просрочку 30+."
      ],
      "metadata": {
        "id": "G_rHppBdjbAI"
      }
    },
    {
      "cell_type": "code",
      "source": [
        "data = data.drop(['NumberOfTimes90DaysLate','NumberOfTime60-89DaysPastDueNotWorse'],axis=1)"
      ],
      "metadata": {
        "colab": {
          "base_uri": "https://localhost:8080/",
          "height": 331
        },
        "id": "cZwRinqMlJ3K",
        "outputId": "86ddaee8-e3c7-493b-ff57-6e5b151db321"
      },
      "execution_count": 29,
      "outputs": [
        {
          "output_type": "error",
          "ename": "KeyError",
          "evalue": "ignored",
          "traceback": [
            "\u001b[0;31m---------------------------------------------------------------------------\u001b[0m",
            "\u001b[0;31mKeyError\u001b[0m                                  Traceback (most recent call last)",
            "\u001b[0;32m<ipython-input-29-63a60ff884da>\u001b[0m in \u001b[0;36m<cell line: 1>\u001b[0;34m()\u001b[0m\n\u001b[0;32m----> 1\u001b[0;31m \u001b[0mdata\u001b[0m \u001b[0;34m=\u001b[0m \u001b[0mdata\u001b[0m\u001b[0;34m.\u001b[0m\u001b[0mdrop\u001b[0m\u001b[0;34m(\u001b[0m\u001b[0;34m[\u001b[0m\u001b[0;34m'NumberOfTimes90DaysLate'\u001b[0m\u001b[0;34m,\u001b[0m\u001b[0;34m'NumberOfTime60-89DaysPastDueNotWorse'\u001b[0m\u001b[0;34m]\u001b[0m\u001b[0;34m,\u001b[0m\u001b[0maxis\u001b[0m\u001b[0;34m=\u001b[0m\u001b[0;36m1\u001b[0m\u001b[0;34m)\u001b[0m\u001b[0;34m\u001b[0m\u001b[0;34m\u001b[0m\u001b[0m\n\u001b[0m",
            "\u001b[0;32m/usr/local/lib/python3.10/dist-packages/pandas/util/_decorators.py\u001b[0m in \u001b[0;36mwrapper\u001b[0;34m(*args, **kwargs)\u001b[0m\n\u001b[1;32m    329\u001b[0m                     \u001b[0mstacklevel\u001b[0m\u001b[0;34m=\u001b[0m\u001b[0mfind_stack_level\u001b[0m\u001b[0;34m(\u001b[0m\u001b[0;34m)\u001b[0m\u001b[0;34m,\u001b[0m\u001b[0;34m\u001b[0m\u001b[0;34m\u001b[0m\u001b[0m\n\u001b[1;32m    330\u001b[0m                 )\n\u001b[0;32m--> 331\u001b[0;31m             \u001b[0;32mreturn\u001b[0m \u001b[0mfunc\u001b[0m\u001b[0;34m(\u001b[0m\u001b[0;34m*\u001b[0m\u001b[0margs\u001b[0m\u001b[0;34m,\u001b[0m \u001b[0;34m**\u001b[0m\u001b[0mkwargs\u001b[0m\u001b[0;34m)\u001b[0m\u001b[0;34m\u001b[0m\u001b[0;34m\u001b[0m\u001b[0m\n\u001b[0m\u001b[1;32m    332\u001b[0m \u001b[0;34m\u001b[0m\u001b[0m\n\u001b[1;32m    333\u001b[0m         \u001b[0;31m# error: \"Callable[[VarArg(Any), KwArg(Any)], Any]\" has no\u001b[0m\u001b[0;34m\u001b[0m\u001b[0;34m\u001b[0m\u001b[0m\n",
            "\u001b[0;32m/usr/local/lib/python3.10/dist-packages/pandas/core/frame.py\u001b[0m in \u001b[0;36mdrop\u001b[0;34m(self, labels, axis, index, columns, level, inplace, errors)\u001b[0m\n\u001b[1;32m   5397\u001b[0m                 \u001b[0mweight\u001b[0m  \u001b[0;36m1.0\u001b[0m     \u001b[0;36m0.8\u001b[0m\u001b[0;34m\u001b[0m\u001b[0;34m\u001b[0m\u001b[0m\n\u001b[1;32m   5398\u001b[0m         \"\"\"\n\u001b[0;32m-> 5399\u001b[0;31m         return super().drop(\n\u001b[0m\u001b[1;32m   5400\u001b[0m             \u001b[0mlabels\u001b[0m\u001b[0;34m=\u001b[0m\u001b[0mlabels\u001b[0m\u001b[0;34m,\u001b[0m\u001b[0;34m\u001b[0m\u001b[0;34m\u001b[0m\u001b[0m\n\u001b[1;32m   5401\u001b[0m             \u001b[0maxis\u001b[0m\u001b[0;34m=\u001b[0m\u001b[0maxis\u001b[0m\u001b[0;34m,\u001b[0m\u001b[0;34m\u001b[0m\u001b[0;34m\u001b[0m\u001b[0m\n",
            "\u001b[0;32m/usr/local/lib/python3.10/dist-packages/pandas/util/_decorators.py\u001b[0m in \u001b[0;36mwrapper\u001b[0;34m(*args, **kwargs)\u001b[0m\n\u001b[1;32m    329\u001b[0m                     \u001b[0mstacklevel\u001b[0m\u001b[0;34m=\u001b[0m\u001b[0mfind_stack_level\u001b[0m\u001b[0;34m(\u001b[0m\u001b[0;34m)\u001b[0m\u001b[0;34m,\u001b[0m\u001b[0;34m\u001b[0m\u001b[0;34m\u001b[0m\u001b[0m\n\u001b[1;32m    330\u001b[0m                 )\n\u001b[0;32m--> 331\u001b[0;31m             \u001b[0;32mreturn\u001b[0m \u001b[0mfunc\u001b[0m\u001b[0;34m(\u001b[0m\u001b[0;34m*\u001b[0m\u001b[0margs\u001b[0m\u001b[0;34m,\u001b[0m \u001b[0;34m**\u001b[0m\u001b[0mkwargs\u001b[0m\u001b[0;34m)\u001b[0m\u001b[0;34m\u001b[0m\u001b[0;34m\u001b[0m\u001b[0m\n\u001b[0m\u001b[1;32m    332\u001b[0m \u001b[0;34m\u001b[0m\u001b[0m\n\u001b[1;32m    333\u001b[0m         \u001b[0;31m# error: \"Callable[[VarArg(Any), KwArg(Any)], Any]\" has no\u001b[0m\u001b[0;34m\u001b[0m\u001b[0;34m\u001b[0m\u001b[0m\n",
            "\u001b[0;32m/usr/local/lib/python3.10/dist-packages/pandas/core/generic.py\u001b[0m in \u001b[0;36mdrop\u001b[0;34m(self, labels, axis, index, columns, level, inplace, errors)\u001b[0m\n\u001b[1;32m   4503\u001b[0m         \u001b[0;32mfor\u001b[0m \u001b[0maxis\u001b[0m\u001b[0;34m,\u001b[0m \u001b[0mlabels\u001b[0m \u001b[0;32min\u001b[0m \u001b[0maxes\u001b[0m\u001b[0;34m.\u001b[0m\u001b[0mitems\u001b[0m\u001b[0;34m(\u001b[0m\u001b[0;34m)\u001b[0m\u001b[0;34m:\u001b[0m\u001b[0;34m\u001b[0m\u001b[0;34m\u001b[0m\u001b[0m\n\u001b[1;32m   4504\u001b[0m             \u001b[0;32mif\u001b[0m \u001b[0mlabels\u001b[0m \u001b[0;32mis\u001b[0m \u001b[0;32mnot\u001b[0m \u001b[0;32mNone\u001b[0m\u001b[0;34m:\u001b[0m\u001b[0;34m\u001b[0m\u001b[0;34m\u001b[0m\u001b[0m\n\u001b[0;32m-> 4505\u001b[0;31m                 \u001b[0mobj\u001b[0m \u001b[0;34m=\u001b[0m \u001b[0mobj\u001b[0m\u001b[0;34m.\u001b[0m\u001b[0m_drop_axis\u001b[0m\u001b[0;34m(\u001b[0m\u001b[0mlabels\u001b[0m\u001b[0;34m,\u001b[0m \u001b[0maxis\u001b[0m\u001b[0;34m,\u001b[0m \u001b[0mlevel\u001b[0m\u001b[0;34m=\u001b[0m\u001b[0mlevel\u001b[0m\u001b[0;34m,\u001b[0m \u001b[0merrors\u001b[0m\u001b[0;34m=\u001b[0m\u001b[0merrors\u001b[0m\u001b[0;34m)\u001b[0m\u001b[0;34m\u001b[0m\u001b[0;34m\u001b[0m\u001b[0m\n\u001b[0m\u001b[1;32m   4506\u001b[0m \u001b[0;34m\u001b[0m\u001b[0m\n\u001b[1;32m   4507\u001b[0m         \u001b[0;32mif\u001b[0m \u001b[0minplace\u001b[0m\u001b[0;34m:\u001b[0m\u001b[0;34m\u001b[0m\u001b[0;34m\u001b[0m\u001b[0m\n",
            "\u001b[0;32m/usr/local/lib/python3.10/dist-packages/pandas/core/generic.py\u001b[0m in \u001b[0;36m_drop_axis\u001b[0;34m(self, labels, axis, level, errors, only_slice)\u001b[0m\n\u001b[1;32m   4544\u001b[0m                 \u001b[0mnew_axis\u001b[0m \u001b[0;34m=\u001b[0m \u001b[0maxis\u001b[0m\u001b[0;34m.\u001b[0m\u001b[0mdrop\u001b[0m\u001b[0;34m(\u001b[0m\u001b[0mlabels\u001b[0m\u001b[0;34m,\u001b[0m \u001b[0mlevel\u001b[0m\u001b[0;34m=\u001b[0m\u001b[0mlevel\u001b[0m\u001b[0;34m,\u001b[0m \u001b[0merrors\u001b[0m\u001b[0;34m=\u001b[0m\u001b[0merrors\u001b[0m\u001b[0;34m)\u001b[0m\u001b[0;34m\u001b[0m\u001b[0;34m\u001b[0m\u001b[0m\n\u001b[1;32m   4545\u001b[0m             \u001b[0;32melse\u001b[0m\u001b[0;34m:\u001b[0m\u001b[0;34m\u001b[0m\u001b[0;34m\u001b[0m\u001b[0m\n\u001b[0;32m-> 4546\u001b[0;31m                 \u001b[0mnew_axis\u001b[0m \u001b[0;34m=\u001b[0m \u001b[0maxis\u001b[0m\u001b[0;34m.\u001b[0m\u001b[0mdrop\u001b[0m\u001b[0;34m(\u001b[0m\u001b[0mlabels\u001b[0m\u001b[0;34m,\u001b[0m \u001b[0merrors\u001b[0m\u001b[0;34m=\u001b[0m\u001b[0merrors\u001b[0m\u001b[0;34m)\u001b[0m\u001b[0;34m\u001b[0m\u001b[0;34m\u001b[0m\u001b[0m\n\u001b[0m\u001b[1;32m   4547\u001b[0m             \u001b[0mindexer\u001b[0m \u001b[0;34m=\u001b[0m \u001b[0maxis\u001b[0m\u001b[0;34m.\u001b[0m\u001b[0mget_indexer\u001b[0m\u001b[0;34m(\u001b[0m\u001b[0mnew_axis\u001b[0m\u001b[0;34m)\u001b[0m\u001b[0;34m\u001b[0m\u001b[0;34m\u001b[0m\u001b[0m\n\u001b[1;32m   4548\u001b[0m \u001b[0;34m\u001b[0m\u001b[0m\n",
            "\u001b[0;32m/usr/local/lib/python3.10/dist-packages/pandas/core/indexes/base.py\u001b[0m in \u001b[0;36mdrop\u001b[0;34m(self, labels, errors)\u001b[0m\n\u001b[1;32m   6932\u001b[0m         \u001b[0;32mif\u001b[0m \u001b[0mmask\u001b[0m\u001b[0;34m.\u001b[0m\u001b[0many\u001b[0m\u001b[0;34m(\u001b[0m\u001b[0;34m)\u001b[0m\u001b[0;34m:\u001b[0m\u001b[0;34m\u001b[0m\u001b[0;34m\u001b[0m\u001b[0m\n\u001b[1;32m   6933\u001b[0m             \u001b[0;32mif\u001b[0m \u001b[0merrors\u001b[0m \u001b[0;34m!=\u001b[0m \u001b[0;34m\"ignore\"\u001b[0m\u001b[0;34m:\u001b[0m\u001b[0;34m\u001b[0m\u001b[0;34m\u001b[0m\u001b[0m\n\u001b[0;32m-> 6934\u001b[0;31m                 \u001b[0;32mraise\u001b[0m \u001b[0mKeyError\u001b[0m\u001b[0;34m(\u001b[0m\u001b[0;34mf\"{list(labels[mask])} not found in axis\"\u001b[0m\u001b[0;34m)\u001b[0m\u001b[0;34m\u001b[0m\u001b[0;34m\u001b[0m\u001b[0m\n\u001b[0m\u001b[1;32m   6935\u001b[0m             \u001b[0mindexer\u001b[0m \u001b[0;34m=\u001b[0m \u001b[0mindexer\u001b[0m\u001b[0;34m[\u001b[0m\u001b[0;34m~\u001b[0m\u001b[0mmask\u001b[0m\u001b[0;34m]\u001b[0m\u001b[0;34m\u001b[0m\u001b[0;34m\u001b[0m\u001b[0m\n\u001b[1;32m   6936\u001b[0m         \u001b[0;32mreturn\u001b[0m \u001b[0mself\u001b[0m\u001b[0;34m.\u001b[0m\u001b[0mdelete\u001b[0m\u001b[0;34m(\u001b[0m\u001b[0mindexer\u001b[0m\u001b[0;34m)\u001b[0m\u001b[0;34m\u001b[0m\u001b[0;34m\u001b[0m\u001b[0m\n",
            "\u001b[0;31mKeyError\u001b[0m: \"['NumberOfTimes90DaysLate', 'NumberOfTime60-89DaysPastDueNotWorse'] not found in axis\""
          ]
        }
      ]
    },
    {
      "cell_type": "code",
      "source": [
        "data.tail()"
      ],
      "metadata": {
        "colab": {
          "base_uri": "https://localhost:8080/",
          "height": 206
        },
        "id": "Hraj6JYKlkUI",
        "outputId": "50872974-d06e-44af-a020-95f24982b9de"
      },
      "execution_count": 31,
      "outputs": [
        {
          "output_type": "execute_result",
          "data": {
            "text/plain": [
              "        SeriousDlqin2yrs  RevolvingUtilizationOfUnsecuredLines   age  \\\n",
              "149995                 0                              0.977899  63.0   \n",
              "149996                 0                              0.025449  58.0   \n",
              "149997                 0                              0.058001  83.0   \n",
              "149998                 0                              0.071273  42.0   \n",
              "149999                 0                              1.026395  44.0   \n",
              "\n",
              "        NumberOfTime30-59DaysPastDueNotWorse   DebtRatio  MonthlyIncome  \\\n",
              "149995                                     0  517.000000         5400.0   \n",
              "149996                                     0    0.253855        15500.0   \n",
              "149997                                     0    0.013997         5000.0   \n",
              "149998                                     0    0.008638         6945.0   \n",
              "149999                                     0    0.494819         5500.0   \n",
              "\n",
              "        NumberOfOpenCreditLinesAndLoans  NumberOfDependents  \\\n",
              "149995                                5                 0.0   \n",
              "149996                                7                 2.0   \n",
              "149997                                6                 0.0   \n",
              "149998                                3                 1.0   \n",
              "149999                                7                 1.0   \n",
              "\n",
              "       RealEstateLoansOrLines GroupAge  \n",
              "149995                      A        d  \n",
              "149996                      A        d  \n",
              "149997                      A        e  \n",
              "149998                      A        c  \n",
              "149999                      A        c  "
            ],
            "text/html": [
              "\n",
              "  <div id=\"df-84820c11-0d1e-4158-b3fb-b4ee51f98919\">\n",
              "    <div class=\"colab-df-container\">\n",
              "      <div>\n",
              "<style scoped>\n",
              "    .dataframe tbody tr th:only-of-type {\n",
              "        vertical-align: middle;\n",
              "    }\n",
              "\n",
              "    .dataframe tbody tr th {\n",
              "        vertical-align: top;\n",
              "    }\n",
              "\n",
              "    .dataframe thead th {\n",
              "        text-align: right;\n",
              "    }\n",
              "</style>\n",
              "<table border=\"1\" class=\"dataframe\">\n",
              "  <thead>\n",
              "    <tr style=\"text-align: right;\">\n",
              "      <th></th>\n",
              "      <th>SeriousDlqin2yrs</th>\n",
              "      <th>RevolvingUtilizationOfUnsecuredLines</th>\n",
              "      <th>age</th>\n",
              "      <th>NumberOfTime30-59DaysPastDueNotWorse</th>\n",
              "      <th>DebtRatio</th>\n",
              "      <th>MonthlyIncome</th>\n",
              "      <th>NumberOfOpenCreditLinesAndLoans</th>\n",
              "      <th>NumberOfDependents</th>\n",
              "      <th>RealEstateLoansOrLines</th>\n",
              "      <th>GroupAge</th>\n",
              "    </tr>\n",
              "  </thead>\n",
              "  <tbody>\n",
              "    <tr>\n",
              "      <th>149995</th>\n",
              "      <td>0</td>\n",
              "      <td>0.977899</td>\n",
              "      <td>63.0</td>\n",
              "      <td>0</td>\n",
              "      <td>517.000000</td>\n",
              "      <td>5400.0</td>\n",
              "      <td>5</td>\n",
              "      <td>0.0</td>\n",
              "      <td>A</td>\n",
              "      <td>d</td>\n",
              "    </tr>\n",
              "    <tr>\n",
              "      <th>149996</th>\n",
              "      <td>0</td>\n",
              "      <td>0.025449</td>\n",
              "      <td>58.0</td>\n",
              "      <td>0</td>\n",
              "      <td>0.253855</td>\n",
              "      <td>15500.0</td>\n",
              "      <td>7</td>\n",
              "      <td>2.0</td>\n",
              "      <td>A</td>\n",
              "      <td>d</td>\n",
              "    </tr>\n",
              "    <tr>\n",
              "      <th>149997</th>\n",
              "      <td>0</td>\n",
              "      <td>0.058001</td>\n",
              "      <td>83.0</td>\n",
              "      <td>0</td>\n",
              "      <td>0.013997</td>\n",
              "      <td>5000.0</td>\n",
              "      <td>6</td>\n",
              "      <td>0.0</td>\n",
              "      <td>A</td>\n",
              "      <td>e</td>\n",
              "    </tr>\n",
              "    <tr>\n",
              "      <th>149998</th>\n",
              "      <td>0</td>\n",
              "      <td>0.071273</td>\n",
              "      <td>42.0</td>\n",
              "      <td>0</td>\n",
              "      <td>0.008638</td>\n",
              "      <td>6945.0</td>\n",
              "      <td>3</td>\n",
              "      <td>1.0</td>\n",
              "      <td>A</td>\n",
              "      <td>c</td>\n",
              "    </tr>\n",
              "    <tr>\n",
              "      <th>149999</th>\n",
              "      <td>0</td>\n",
              "      <td>1.026395</td>\n",
              "      <td>44.0</td>\n",
              "      <td>0</td>\n",
              "      <td>0.494819</td>\n",
              "      <td>5500.0</td>\n",
              "      <td>7</td>\n",
              "      <td>1.0</td>\n",
              "      <td>A</td>\n",
              "      <td>c</td>\n",
              "    </tr>\n",
              "  </tbody>\n",
              "</table>\n",
              "</div>\n",
              "      <button class=\"colab-df-convert\" onclick=\"convertToInteractive('df-84820c11-0d1e-4158-b3fb-b4ee51f98919')\"\n",
              "              title=\"Convert this dataframe to an interactive table.\"\n",
              "              style=\"display:none;\">\n",
              "        \n",
              "  <svg xmlns=\"http://www.w3.org/2000/svg\" height=\"24px\"viewBox=\"0 0 24 24\"\n",
              "       width=\"24px\">\n",
              "    <path d=\"M0 0h24v24H0V0z\" fill=\"none\"/>\n",
              "    <path d=\"M18.56 5.44l.94 2.06.94-2.06 2.06-.94-2.06-.94-.94-2.06-.94 2.06-2.06.94zm-11 1L8.5 8.5l.94-2.06 2.06-.94-2.06-.94L8.5 2.5l-.94 2.06-2.06.94zm10 10l.94 2.06.94-2.06 2.06-.94-2.06-.94-.94-2.06-.94 2.06-2.06.94z\"/><path d=\"M17.41 7.96l-1.37-1.37c-.4-.4-.92-.59-1.43-.59-.52 0-1.04.2-1.43.59L10.3 9.45l-7.72 7.72c-.78.78-.78 2.05 0 2.83L4 21.41c.39.39.9.59 1.41.59.51 0 1.02-.2 1.41-.59l7.78-7.78 2.81-2.81c.8-.78.8-2.07 0-2.86zM5.41 20L4 18.59l7.72-7.72 1.47 1.35L5.41 20z\"/>\n",
              "  </svg>\n",
              "      </button>\n",
              "      \n",
              "  <style>\n",
              "    .colab-df-container {\n",
              "      display:flex;\n",
              "      flex-wrap:wrap;\n",
              "      gap: 12px;\n",
              "    }\n",
              "\n",
              "    .colab-df-convert {\n",
              "      background-color: #E8F0FE;\n",
              "      border: none;\n",
              "      border-radius: 50%;\n",
              "      cursor: pointer;\n",
              "      display: none;\n",
              "      fill: #1967D2;\n",
              "      height: 32px;\n",
              "      padding: 0 0 0 0;\n",
              "      width: 32px;\n",
              "    }\n",
              "\n",
              "    .colab-df-convert:hover {\n",
              "      background-color: #E2EBFA;\n",
              "      box-shadow: 0px 1px 2px rgba(60, 64, 67, 0.3), 0px 1px 3px 1px rgba(60, 64, 67, 0.15);\n",
              "      fill: #174EA6;\n",
              "    }\n",
              "\n",
              "    [theme=dark] .colab-df-convert {\n",
              "      background-color: #3B4455;\n",
              "      fill: #D2E3FC;\n",
              "    }\n",
              "\n",
              "    [theme=dark] .colab-df-convert:hover {\n",
              "      background-color: #434B5C;\n",
              "      box-shadow: 0px 1px 3px 1px rgba(0, 0, 0, 0.15);\n",
              "      filter: drop-shadow(0px 1px 2px rgba(0, 0, 0, 0.3));\n",
              "      fill: #FFFFFF;\n",
              "    }\n",
              "  </style>\n",
              "\n",
              "      <script>\n",
              "        const buttonEl =\n",
              "          document.querySelector('#df-84820c11-0d1e-4158-b3fb-b4ee51f98919 button.colab-df-convert');\n",
              "        buttonEl.style.display =\n",
              "          google.colab.kernel.accessAllowed ? 'block' : 'none';\n",
              "\n",
              "        async function convertToInteractive(key) {\n",
              "          const element = document.querySelector('#df-84820c11-0d1e-4158-b3fb-b4ee51f98919');\n",
              "          const dataTable =\n",
              "            await google.colab.kernel.invokeFunction('convertToInteractive',\n",
              "                                                     [key], {});\n",
              "          if (!dataTable) return;\n",
              "\n",
              "          const docLinkHtml = 'Like what you see? Visit the ' +\n",
              "            '<a target=\"_blank\" href=https://colab.research.google.com/notebooks/data_table.ipynb>data table notebook</a>'\n",
              "            + ' to learn more about interactive tables.';\n",
              "          element.innerHTML = '';\n",
              "          dataTable['output_type'] = 'display_data';\n",
              "          await google.colab.output.renderOutput(dataTable, element);\n",
              "          const docLink = document.createElement('div');\n",
              "          docLink.innerHTML = docLinkHtml;\n",
              "          element.appendChild(docLink);\n",
              "        }\n",
              "      </script>\n",
              "    </div>\n",
              "  </div>\n",
              "  "
            ]
          },
          "metadata": {},
          "execution_count": 31
        }
      ]
    },
    {
      "cell_type": "markdown",
      "source": [
        "Проверим корреляцию целевой переменной с оставшимися параметрами"
      ],
      "metadata": {
        "id": "YRgK1HfCmeVG"
      }
    },
    {
      "cell_type": "code",
      "source": [
        "for col in data.columns:\n",
        "    try:\n",
        "        print(col, np.corrcoef(data[col], data['SeriousDlqin2yrs'])[0][1])\n",
        "    except:\n",
        "        pass"
      ],
      "metadata": {
        "colab": {
          "base_uri": "https://localhost:8080/"
        },
        "id": "lPuJfMwymeAj",
        "outputId": "5abcd330-7b4a-400f-876a-faac5ad77f91"
      },
      "execution_count": 34,
      "outputs": [
        {
          "output_type": "stream",
          "name": "stdout",
          "text": [
            "SeriousDlqin2yrs 1.0\n",
            "RevolvingUtilizationOfUnsecuredLines -0.0018015025039439722\n",
            "age -0.11011546331123062\n",
            "NumberOfTime30-59DaysPastDueNotWorse 0.12558696457286178\n",
            "DebtRatio -0.007602119826456188\n",
            "MonthlyIncome -0.017150766085729303\n",
            "NumberOfOpenCreditLinesAndLoans -0.02966856846931847\n",
            "NumberOfDependents 0.046869008345669656\n"
          ]
        }
      ]
    },
    {
      "cell_type": "markdown",
      "source": [
        "Мы видим, что наибольшее влияние на факт выхода на просроку 90+ оказывает отрицательная кредитная история (= кол-во выходов на просрочку 30+ в прошлом)"
      ],
      "metadata": {
        "id": "XQaYtVpam2l2"
      }
    },
    {
      "cell_type": "markdown",
      "source": [
        "Визуализируем зависимости между целевой переменной и параметрами"
      ],
      "metadata": {
        "id": "bPFTgGFVniYv"
      }
    },
    {
      "cell_type": "code",
      "source": [
        "data.SeriousDlqin2yrs.value_counts(dropna=False)"
      ],
      "metadata": {
        "colab": {
          "base_uri": "https://localhost:8080/"
        },
        "id": "v7n-kRfmpibA",
        "outputId": "fd9c6976-11dd-4954-a49e-c2d0d9478d29"
      },
      "execution_count": 38,
      "outputs": [
        {
          "output_type": "execute_result",
          "data": {
            "text/plain": [
              "0    139974\n",
              "1     10026\n",
              "Name: SeriousDlqin2yrs, dtype: int64"
            ]
          },
          "metadata": {},
          "execution_count": 38
        }
      ]
    },
    {
      "cell_type": "code",
      "source": [
        "plt.scatter(data['RevolvingUtilizationOfUnsecuredLines'], data['SeriousDlqin2yrs'], c=data['SeriousDlqin2yrs'])\n"
      ],
      "metadata": {
        "colab": {
          "base_uri": "https://localhost:8080/",
          "height": 449
        },
        "id": "ug-g2ytXnnWk",
        "outputId": "55a31aa3-9e75-4862-cfa3-8846d9b86765"
      },
      "execution_count": 36,
      "outputs": [
        {
          "output_type": "execute_result",
          "data": {
            "text/plain": [
              "<matplotlib.collections.PathCollection at 0x7f448a67f1c0>"
            ]
          },
          "metadata": {},
          "execution_count": 36
        },
        {
          "output_type": "display_data",
          "data": {
            "text/plain": [
              "<Figure size 640x480 with 1 Axes>"
            ],
            "image/png": "[encoded data removed]"
          },
          "metadata": {}
        }
      ]
    },
    {
      "cell_type": "code",
      "source": [
        "plt.scatter(data['age'], data['SeriousDlqin2yrs'], c=data['SeriousDlqin2yrs'])"
      ],
      "metadata": {
        "colab": {
          "base_uri": "https://localhost:8080/",
          "height": 449
        },
        "id": "C-tOZ0agorTb",
        "outputId": "4c6a1141-d1c2-41e4-d475-3a08baed6ed0"
      },
      "execution_count": 37,
      "outputs": [
        {
          "output_type": "execute_result",
          "data": {
            "text/plain": [
              "<matplotlib.collections.PathCollection at 0x7f448a514880>"
            ]
          },
          "metadata": {},
          "execution_count": 37
        },
        {
          "output_type": "display_data",
          "data": {
            "text/plain": [
              "<Figure size 640x480 with 1 Axes>"
            ],
            "image/png": "[encoded data removed]"
          },
          "metadata": {}
        }
      ]
    },
    {
      "cell_type": "code",
      "source": [
        "plt.scatter(data['NumberOfTime30-59DaysPastDueNotWorse'], data['SeriousDlqin2yrs'], c=data['SeriousDlqin2yrs'])"
      ],
      "metadata": {
        "colab": {
          "base_uri": "https://localhost:8080/",
          "height": 449
        },
        "id": "whuy5UG8otpH",
        "outputId": "a2c8db3b-e76f-4f25-e646-7623158a4d64"
      },
      "execution_count": 42,
      "outputs": [
        {
          "output_type": "execute_result",
          "data": {
            "text/plain": [
              "<matplotlib.collections.PathCollection at 0x7f448a3c9150>"
            ]
          },
          "metadata": {},
          "execution_count": 42
        },
        {
          "output_type": "display_data",
          "data": {
            "text/plain": [
              "<Figure size 640x480 with 1 Axes>"
            ],
            "image/png": "[encoded data removed]"
          },
          "metadata": {}
        }
      ]
    },
    {
      "cell_type": "code",
      "source": [
        "plt.scatter(data['DebtRatio'], data['SeriousDlqin2yrs'], c=data['SeriousDlqin2yrs'])"
      ],
      "metadata": {
        "colab": {
          "base_uri": "https://localhost:8080/",
          "height": 449
        },
        "id": "e2C4IF8OowRW",
        "outputId": "03f39e89-bf88-474f-8dab-20c3dfa3a68a"
      },
      "execution_count": 43,
      "outputs": [
        {
          "output_type": "execute_result",
          "data": {
            "text/plain": [
              "<matplotlib.collections.PathCollection at 0x7f448a232170>"
            ]
          },
          "metadata": {},
          "execution_count": 43
        },
        {
          "output_type": "display_data",
          "data": {
            "text/plain": [
              "<Figure size 640x480 with 1 Axes>"
            ],
            "image/png": "[encoded data removed]"
          },
          "metadata": {}
        }
      ]
    },
    {
      "cell_type": "code",
      "source": [
        "plt.scatter(data['MonthlyIncome'], data['SeriousDlqin2yrs'], c=data['SeriousDlqin2yrs'])"
      ],
      "metadata": {
        "colab": {
          "base_uri": "https://localhost:8080/",
          "height": 467
        },
        "id": "_S1-LvPhoy1y",
        "outputId": "8ec85dd1-6d93-4a57-987c-5ef15a48df30"
      },
      "execution_count": 44,
      "outputs": [
        {
          "output_type": "execute_result",
          "data": {
            "text/plain": [
              "<matplotlib.collections.PathCollection at 0x7f448a2d04c0>"
            ]
          },
          "metadata": {},
          "execution_count": 44
        },
        {
          "output_type": "display_data",
          "data": {
            "text/plain": [
              "<Figure size 640x480 with 1 Axes>"
            ],
            "image/png": "[encoded data removed]"
          },
          "metadata": {}
        }
      ]
    },
    {
      "cell_type": "code",
      "source": [
        "plt.scatter(data['NumberOfOpenCreditLinesAndLoans'], data['SeriousDlqin2yrs'], c=data['SeriousDlqin2yrs'])"
      ],
      "metadata": {
        "colab": {
          "base_uri": "https://localhost:8080/",
          "height": 449
        },
        "id": "ePW7z-O_oy9B",
        "outputId": "82653e8f-6338-460b-ad63-a3d8fa7d853b"
      },
      "execution_count": 45,
      "outputs": [
        {
          "output_type": "execute_result",
          "data": {
            "text/plain": [
              "<matplotlib.collections.PathCollection at 0x7f448a141d50>"
            ]
          },
          "metadata": {},
          "execution_count": 45
        },
        {
          "output_type": "display_data",
          "data": {
            "text/plain": [
              "<Figure size 640x480 with 1 Axes>"
            ],
            "image/png": "[encoded data removed]"
          },
          "metadata": {}
        }
      ]
    },
    {
      "cell_type": "code",
      "source": [
        "plt.scatter(data['NumberOfDependents'], data['SeriousDlqin2yrs'], c=data['SeriousDlqin2yrs'])"
      ],
      "metadata": {
        "colab": {
          "base_uri": "https://localhost:8080/",
          "height": 449
        },
        "id": "LhIP1xwUozCO",
        "outputId": "d819fb73-7ed6-4a9a-d259-116d34f9b388"
      },
      "execution_count": 46,
      "outputs": [
        {
          "output_type": "execute_result",
          "data": {
            "text/plain": [
              "<matplotlib.collections.PathCollection at 0x7f448a1b5d50>"
            ]
          },
          "metadata": {},
          "execution_count": 46
        },
        {
          "output_type": "display_data",
          "data": {
            "text/plain": [
              "<Figure size 640x480 with 1 Axes>"
            ],
            "image/png": "[encoded data removed]"
          },
          "metadata": {}
        }
      ]
    },
    {
      "cell_type": "code",
      "source": [
        "plt.scatter(data['RealEstateLoansOrLines'], data['SeriousDlqin2yrs'], c=data['SeriousDlqin2yrs'])"
      ],
      "metadata": {
        "colab": {
          "base_uri": "https://localhost:8080/",
          "height": 449
        },
        "id": "4rFMA8Qfo6S3",
        "outputId": "377fc885-3e96-429d-f744-bf5aed5f7617"
      },
      "execution_count": 47,
      "outputs": [
        {
          "output_type": "execute_result",
          "data": {
            "text/plain": [
              "<matplotlib.collections.PathCollection at 0x7f448a036ad0>"
            ]
          },
          "metadata": {},
          "execution_count": 47
        },
        {
          "output_type": "display_data",
          "data": {
            "text/plain": [
              "<Figure size 640x480 with 1 Axes>"
            ],
            "image/png": "[encoded data removed]"
          },
          "metadata": {}
        }
      ]
    },
    {
      "cell_type": "code",
      "source": [
        "plt.scatter(data['GroupAge'], data['SeriousDlqin2yrs'], c=data['SeriousDlqin2yrs'])"
      ],
      "metadata": {
        "colab": {
          "base_uri": "https://localhost:8080/",
          "height": 449
        },
        "id": "q9hbaq9eo6Vy",
        "outputId": "b08e9c6e-f722-4e55-a194-714a27b2588d"
      },
      "execution_count": 48,
      "outputs": [
        {
          "output_type": "execute_result",
          "data": {
            "text/plain": [
              "<matplotlib.collections.PathCollection at 0x7f448ab07be0>"
            ]
          },
          "metadata": {},
          "execution_count": 48
        },
        {
          "output_type": "display_data",
          "data": {
            "text/plain": [
              "<Figure size 640x480 with 1 Axes>"
            ],
            "image/png": "[encoded data removed]"
          },
          "metadata": {}
        }
      ]
    }
  ]
}